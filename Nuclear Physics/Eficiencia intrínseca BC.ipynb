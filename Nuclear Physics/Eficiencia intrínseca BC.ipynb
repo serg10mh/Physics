{
 "cells": [
  {
   "cell_type": "markdown",
   "metadata": {},
   "source": [
    "# Eficiencia intrínseca de los detectores B y C"
   ]
  },
  {
   "cell_type": "markdown",
   "metadata": {},
   "source": [
    "Para realizar el análisis de esta parte, hemos tomado datos con 2 configuraciones de trigger diferentes: BC variando el alto voltaje en AD y AD variando el alto voltaje en BC.\n",
    "Para cada configuración, podemos representar el número de disparos frente al número de detecciones y realizar comparaciones."
   ]
  },
  {
   "cell_type": "markdown",
   "metadata": {},
   "source": [
    "#### Este Notebook corresponde al análisis de los detectores BC, es decir, tomaremos los datos con confirguraciones de trigger en AD."
   ]
  },
  {
   "cell_type": "markdown",
   "metadata": {},
   "source": [
    "Cargamos los módulos necesarios:"
   ]
  },
  {
   "cell_type": "code",
   "execution_count": 1,
   "metadata": {},
   "outputs": [],
   "source": [
    "import numpy as np\n",
    "import matplotlib.pylab as plt\n",
    "import scipy.optimize as so\n",
    "import scipy.special as se #para el factorial\n",
    "import pandas as pd\n",
    "from decimal import * #para las cifras significativas\n",
    "from tabulate import tabulate"
   ]
  },
  {
   "cell_type": "markdown",
   "metadata": {},
   "source": [
    "Cargamos los datos desde los archivos txt."
   ]
  },
  {
   "cell_type": "code",
   "execution_count": 2,
   "metadata": {},
   "outputs": [],
   "source": [
    "def leerArchivo(archivo):\n",
    "    completo = open(archivo, 'r')\n",
    "    tiempos = []\n",
    "    datos = []\n",
    "    contador = 0\n",
    "    for linea in completo: #recorremos cada línea del archivo\n",
    "        if len(linea) == 1: #len cuenta los bytes de cada linea: si tiene 1 byte es porque cuenta el salto de linea como \\n\n",
    "            continue\n",
    "        else: #en otro caso, será algún dato de interés\n",
    "            numero_elementos = linea.split() #guardamos los elementos de la línea\n",
    "            if len(numero_elementos) == 1: #si hay un solo elemento, será el tiempo unix\n",
    "                tiempos.append(numero_elementos)\n",
    "                contador += 1\n",
    "            else: #en otro caso, será alguno de los otros datos\n",
    "                datos.append(numero_elementos)\n",
    "                contador += 1\n",
    "    \n",
    "    #el resultado de este bucle es una lista de listas, lo cual no nos interesa porque queremos trabajar con elementos que sean números\n",
    "    tamaño = len(tiempos)\n",
    "    tiempos_unix = [] #almacenamos aquí el tiempo unix\n",
    "    for i in range(tamaño):\n",
    "        tiempos_unix.append(int(tiempos[i][0]))\n",
    "    \n",
    "    #leemos también los datos de los tiempos en ns y las amplitudes de la señal\n",
    "    tiempos_volt = [] #tiempos de registro de amplitudes de señal (cada 4 ns)\n",
    "    numero_iteraciones = len(datos)\n",
    "    for j in range(numero_iteraciones):\n",
    "        tiempos_volt.append(int(datos[j][0]))\n",
    "    medidasA = [] #amplitudes detector A\n",
    "    for k in range(numero_iteraciones):\n",
    "        medidasA.append(int(datos[k][1]))\n",
    "    medidasB = [] #amplitudes detector B\n",
    "    for l in range(numero_iteraciones):\n",
    "        medidasB.append(int(datos[l][2]))\n",
    "    medidasC = [] #amplitudes detector C\n",
    "    for m in range(numero_iteraciones):\n",
    "        medidasC.append(int(datos[m][3]))\n",
    "    medidasD = [] #amplitudes detector D\n",
    "    for n in range(numero_iteraciones):\n",
    "        medidasD.append(int(datos[n][4]))\n",
    "    \n",
    "    return tiempos_unix, tiempos_volt, medidasA, medidasB, medidasC, medidasD, datos"
   ]
  },
  {
   "cell_type": "code",
   "execution_count": 31,
   "metadata": {},
   "outputs": [],
   "source": [
    "medidas = leerArchivo('AD_1050mv.txt')[6]\n",
    "unix = leerArchivo('AD_1050mv.txt')[0]\n",
    "\n",
    "#la función nos devuelve listas con strings, así que pasamos los elementos a float\n",
    "for i in range(len(medidas)):\n",
    "    for j in range(len(medidas[i])):\n",
    "        if type(medidas[i][j]) == str:\n",
    "            medidas[i][j] = float(medidas[i][j])\n",
    "\n",
    "#número de triggers = número de tiempos unix\n",
    "n_sep = len(unix)\n",
    "#creamos una lista de n_sep listas vacías donde almacenaremos los datos de cada medida\n",
    "datos = [[] for k in range(n_sep)]\n",
    "\n",
    "i = 1\n",
    "for j in range(len(datos)):\n",
    "    while medidas[i-1][0] < medidas[i][0] and i < (len(medidas)-1):\n",
    "        datos[j].append(medidas[i-1])\n",
    "        i += 1\n",
    "    else:\n",
    "        i += 1"
   ]
  },
  {
   "cell_type": "markdown",
   "metadata": {},
   "source": [
    "Determinamos los mínimos de cada evento"
   ]
  },
  {
   "cell_type": "code",
   "execution_count": 32,
   "metadata": {},
   "outputs": [],
   "source": [
    "t_min_A = []\n",
    "t_min_B = []\n",
    "t_min_C = []\n",
    "t_min_D = []\n",
    "\n",
    "V_min_A = []\n",
    "V_min_B = []\n",
    "V_min_C = []\n",
    "V_min_D = []\n",
    "\n",
    "def parabola(x, a, b, c):\n",
    "    return a*x**2 + b*x + c\n",
    "\n",
    "for i in range(len(datos)):\n",
    "    \n",
    "    t = []\n",
    "    \n",
    "    detA = []\n",
    "    detB = []\n",
    "    detC = []\n",
    "    detD = []\n",
    "    \n",
    "    for j in range(len(datos[i])):\n",
    "        t.append(datos[i][j][0])\n",
    "        detA.append(datos[i][j][1])\n",
    "        detB.append(datos[i][j][2])\n",
    "        detC.append(datos[i][j][3])\n",
    "        detD.append(datos[i][j][4])\n",
    "    \n",
    "    t_aux = np.linspace(30,100,1000)\n",
    "    ###############################################\n",
    "    indice_min_A = detA.index(min(detA))\n",
    "    if indice_min_A == (len(detA)-1): #si el mínimo está en el último elemento, añade una nueva línea igual a la penúltima para poder hacer el ajuste a tres puntos\n",
    "                detA.append(detA[indice_min_A-1])\n",
    "                t.append(t[indice_min_A] + t[indice_min_A] - t[indice_min_A])\n",
    "    lA = indice_min_A\n",
    "    tA = [t[lA-1], t[lA], t[lA+1]]\n",
    "    ajusteA = [detA[lA-1], detA[lA], detA[lA+1]]\n",
    "    if min(detA) < -50:\n",
    "        solA, covA = so.curve_fit(parabola, tA, ajusteA)\n",
    "        aA = solA[0] ; bA = solA[1] ; cA = solA[2]\n",
    "        VA = aA*t_aux**2 + bA*t_aux + cA\n",
    "        V_min_A.append(min(VA))\n",
    "        t_min_A.append(t_aux[list(VA).index(min(VA))])\n",
    "    else:\n",
    "        V_min_A.append(0)\n",
    "        t_min_A.append(0)\n",
    "    ###############################################\n",
    "    indice_min_B = detB.index(min(detB))\n",
    "    if indice_min_B == (len(detB)-1):\n",
    "                detB.append(detB[indice_min_B-1])\n",
    "                t.append(t[indice_min_B] + t[indice_min_B] - t[indice_min_B])\n",
    "    lB = indice_min_B\n",
    "    tB = [t[lB-1], t[lB], t[lB+1]]\n",
    "    ajusteB = [detB[lB-1], detB[lB], detB[lB+1]]\n",
    "    if min(detB) < -50:\n",
    "        solB, covB = so.curve_fit(parabola, tB, ajusteB)\n",
    "        aB = solB[0] ; bB = solB[1] ; cB = solB[2]\n",
    "        VB = aB*t_aux**2 + bB*t_aux + cB\n",
    "        V_min_B.append(min(VB))\n",
    "        t_min_B.append(t_aux[list(VB).index(min(VB))])\n",
    "    else:\n",
    "        V_min_B.append(0)\n",
    "        t_min_B.append(0)\n",
    "    ###############################################\n",
    "    indice_min_C = detC.index(min(detC))\n",
    "    if indice_min_C == (len(detC)-1):\n",
    "                detC.append(detC[indice_min_C-1])\n",
    "                t.append(t[indice_min_C] + t[indice_min_C] - t[indice_min_C])\n",
    "    lC = indice_min_C\n",
    "    tC = [t[lC-1], t[lC], t[lC+1]]\n",
    "    ajusteC = [detC[lC-1], detC[lC], detC[lC+1]]\n",
    "    if min(detC) < -50:\n",
    "        solC, covC = so.curve_fit(parabola, tC, ajusteC)\n",
    "        aC = solC[0] ; bC = solC[1] ; cC = solC[2]\n",
    "        VC = aC*t_aux**2 + bC*t_aux + cC\n",
    "        V_min_C.append(min(VC))\n",
    "        t_min_C.append(t_aux[list(VC).index(min(VC))])\n",
    "    else:\n",
    "        V_min_C.append(0)\n",
    "        t_min_C.append(0)\n",
    "    ###############################################\n",
    "    indice_min_D = detD.index(min(detD))\n",
    "    if indice_min_D == (len(detD)-1):\n",
    "                detD.append(detD[indice_min_D-1])\n",
    "                t.append(t[indice_min_D] + t[indice_min_D] - t[indice_min_D])\n",
    "    lD = indice_min_D\n",
    "    tD = [t[lD-1], t[lD], t[lD+1]]\n",
    "    if min(detD) < -50:\n",
    "        ajusteD = [detD[lD-1], detD[lD], detD[lD+1]]\n",
    "        solD, covD = so.curve_fit(parabola, tD, ajusteD)\n",
    "        aD = solD[0] ; bD = solD[1] ; cD = solD[2]\n",
    "        VD = aD*t_aux**2 + bD*t_aux + cD\n",
    "        V_min_D.append(min(VD))\n",
    "        t_min_D.append(t_aux[list(VD).index(min(VD))])\n",
    "    else:\n",
    "        V_min_D.append(0)\n",
    "        t_min_D.append(0)\n",
    "    ###############################################"
   ]
  },
  {
   "cell_type": "markdown",
   "metadata": {},
   "source": [
    "Como el programa del laboratorio solo permitía configurar el trigger en A y B, las columnas no están ordenadas como los detectores. Guardamos los datos en orden en unas nuevas variables.\n",
    "\n",
    "#### Conf AD ---> C1=A, C2=D, C3=C, C4=D"
   ]
  },
  {
   "cell_type": "markdown",
   "metadata": {},
   "source": [
    "###############################################################################################################################"
   ]
  },
  {
   "cell_type": "markdown",
   "metadata": {},
   "source": [
    "#### V = 900 mV"
   ]
  },
  {
   "cell_type": "code",
   "execution_count": 5,
   "metadata": {},
   "outputs": [],
   "source": [
    "detA900 = V_min_A\n",
    "detB900 = V_min_D ### columnas no ordenadas con los detectores\n",
    "detC900 = V_min_C\n",
    "detD900 = V_min_D\n",
    "\n",
    "disparosB900 = 0\n",
    "disparosC900 = 0\n",
    "\n",
    "for i in range(len(detA900)):\n",
    "    if abs(detB900[i]) >= 150:\n",
    "        disparosB900 = disparosB900 + 1\n",
    "    if abs(detC900[i]) >= 150:\n",
    "        disparosC900 = disparosC900 + 1"
   ]
  },
  {
   "cell_type": "code",
   "execution_count": 6,
   "metadata": {},
   "outputs": [
    {
     "name": "stdout",
     "output_type": "stream",
     "text": [
      "-----------------------------------\n",
      "Número de disparos del detector B:  333\n",
      "Número de disparos del detector C:  909\n"
     ]
    }
   ],
   "source": [
    "print('-----------------------------------')\n",
    "print('Número de disparos del detector B: ', disparosB900)\n",
    "print('Número de disparos del detector C: ', disparosC900)"
   ]
  },
  {
   "cell_type": "markdown",
   "metadata": {},
   "source": [
    "#### V = 920 mV"
   ]
  },
  {
   "cell_type": "code",
   "execution_count": 9,
   "metadata": {},
   "outputs": [],
   "source": [
    "detA920 = V_min_A\n",
    "detB920 = V_min_D\n",
    "detC920 = V_min_C\n",
    "detD920 = V_min_D\n",
    "\n",
    "disparosB920 = 0\n",
    "disparosC920 = 0\n",
    "\n",
    "for i in range(len(detA920)):\n",
    "    if abs(detB920[i]) >= 150:\n",
    "        disparosB920 = disparosB920 + 1\n",
    "    if abs(detC920[i]) >= 150:\n",
    "        disparosC920 = disparosC920 + 1"
   ]
  },
  {
   "cell_type": "code",
   "execution_count": 10,
   "metadata": {},
   "outputs": [
    {
     "name": "stdout",
     "output_type": "stream",
     "text": [
      "-----------------------------------\n",
      "Número de disparos del detector B:  469\n",
      "Número de disparos del detector C:  927\n"
     ]
    }
   ],
   "source": [
    "print('-----------------------------------')\n",
    "print('Número de disparos del detector B: ', disparosB920)\n",
    "print('Número de disparos del detector C: ', disparosC920)"
   ]
  },
  {
   "cell_type": "markdown",
   "metadata": {},
   "source": [
    "#### V = 940 mV"
   ]
  },
  {
   "cell_type": "code",
   "execution_count": 13,
   "metadata": {},
   "outputs": [],
   "source": [
    "detA940 = V_min_A\n",
    "detB940 = V_min_D\n",
    "detC940 = V_min_C\n",
    "detD940 = V_min_D\n",
    "\n",
    "disparosB940 = 0\n",
    "disparosC940 = 0\n",
    "\n",
    "for i in range(len(detA940)):\n",
    "    if abs(detB940[i]) >= 150:\n",
    "        disparosB940 = disparosB940 + 1\n",
    "    if abs(detC940[i]) >= 150:\n",
    "        disparosC940 = disparosC940 + 1"
   ]
  },
  {
   "cell_type": "code",
   "execution_count": 14,
   "metadata": {},
   "outputs": [
    {
     "name": "stdout",
     "output_type": "stream",
     "text": [
      "-----------------------------------\n",
      "Número de disparos del detector B:  604\n",
      "Número de disparos del detector C:  931\n"
     ]
    }
   ],
   "source": [
    "print('-----------------------------------')\n",
    "print('Número de disparos del detector B: ', disparosB940)\n",
    "print('Número de disparos del detector C: ', disparosC940)"
   ]
  },
  {
   "cell_type": "markdown",
   "metadata": {},
   "source": [
    "#### V = 960 mV"
   ]
  },
  {
   "cell_type": "code",
   "execution_count": 17,
   "metadata": {},
   "outputs": [],
   "source": [
    "detA960 = V_min_A\n",
    "detB960 = V_min_D\n",
    "detC960 = V_min_C\n",
    "detD960 = V_min_D\n",
    "\n",
    "disparosB960 = 0\n",
    "disparosC960 = 0\n",
    "\n",
    "for i in range(len(detA960)):\n",
    "    if abs(detB960[i]) >= 150:\n",
    "        disparosB960 = disparosB960 + 1\n",
    "    if abs(detC960[i]) >= 150:\n",
    "        disparosC960 = disparosC960 + 1"
   ]
  },
  {
   "cell_type": "code",
   "execution_count": 18,
   "metadata": {},
   "outputs": [
    {
     "name": "stdout",
     "output_type": "stream",
     "text": [
      "-----------------------------------\n",
      "Número de disparos del detector B:  726\n",
      "Número de disparos del detector C:  927\n"
     ]
    }
   ],
   "source": [
    "print('-----------------------------------')\n",
    "print('Número de disparos del detector B: ', disparosB960)\n",
    "print('Número de disparos del detector C: ', disparosC960)"
   ]
  },
  {
   "cell_type": "markdown",
   "metadata": {},
   "source": [
    "#### V = 980 mV"
   ]
  },
  {
   "cell_type": "code",
   "execution_count": 21,
   "metadata": {},
   "outputs": [],
   "source": [
    "detA980 = V_min_A\n",
    "detB980 = V_min_D\n",
    "detC980 = V_min_C\n",
    "detD980 = V_min_D\n",
    "\n",
    "disparosB980 = 0\n",
    "disparosC980 = 0\n",
    "\n",
    "for i in range(len(detA980)):\n",
    "    if abs(detB980[i]) >= 150:\n",
    "        disparosB980 = disparosB980 + 1\n",
    "    if abs(detC980[i]) >= 150:\n",
    "        disparosC980 = disparosC980 + 1"
   ]
  },
  {
   "cell_type": "code",
   "execution_count": 22,
   "metadata": {},
   "outputs": [
    {
     "name": "stdout",
     "output_type": "stream",
     "text": [
      "-----------------------------------\n",
      "Número de disparos del detector B:  792\n",
      "Número de disparos del detector C:  937\n"
     ]
    }
   ],
   "source": [
    "print('-----------------------------------')\n",
    "print('Número de disparos del detector B: ', disparosB980)\n",
    "print('Número de disparos del detector C: ', disparosC980)"
   ]
  },
  {
   "cell_type": "markdown",
   "metadata": {},
   "source": [
    "#### V = 1000 mV"
   ]
  },
  {
   "cell_type": "code",
   "execution_count": 25,
   "metadata": {},
   "outputs": [],
   "source": [
    "detA1000 = V_min_A\n",
    "detB1000 = V_min_D\n",
    "detC1000 = V_min_C\n",
    "detD1000 = V_min_D\n",
    "\n",
    "disparosB1000 = 0\n",
    "disparosC1000 = 0\n",
    "\n",
    "for i in range(len(detA1000)):\n",
    "    if abs(detB1000[i]) >= 150:\n",
    "        disparosB1000 = disparosB1000 + 1\n",
    "    if abs(detC1000[i]) >= 150:\n",
    "        disparosC1000 = disparosC1000 + 1"
   ]
  },
  {
   "cell_type": "code",
   "execution_count": 26,
   "metadata": {},
   "outputs": [
    {
     "name": "stdout",
     "output_type": "stream",
     "text": [
      "-----------------------------------\n",
      "Número de disparos del detector B:  844\n",
      "Número de disparos del detector C:  952\n"
     ]
    }
   ],
   "source": [
    "print('-----------------------------------')\n",
    "print('Número de disparos del detector B: ', disparosB1000)\n",
    "print('Número de disparos del detector C: ', disparosC1000)"
   ]
  },
  {
   "cell_type": "markdown",
   "metadata": {},
   "source": [
    "#### V = 1020 mV"
   ]
  },
  {
   "cell_type": "code",
   "execution_count": 29,
   "metadata": {},
   "outputs": [],
   "source": [
    "detA1020 = V_min_A\n",
    "detB1020 = V_min_D\n",
    "detC1020 = V_min_C\n",
    "detD1020 = V_min_D\n",
    "\n",
    "disparosB1020 = 0\n",
    "disparosC1020 = 0\n",
    "\n",
    "for i in range(len(detA1020)):\n",
    "    if abs(detB1020[i]) >= 150:\n",
    "        disparosB1020 = disparosB1020 + 1\n",
    "    if abs(detC1020[i]) >= 150:\n",
    "        disparosC1020 = disparosC1020 + 1"
   ]
  },
  {
   "cell_type": "code",
   "execution_count": 30,
   "metadata": {},
   "outputs": [
    {
     "name": "stdout",
     "output_type": "stream",
     "text": [
      "-----------------------------------\n",
      "Número de disparos del detector B:  904\n",
      "Número de disparos del detector C:  936\n"
     ]
    }
   ],
   "source": [
    "print('-----------------------------------')\n",
    "print('Número de disparos del detector B: ', disparosB1020)\n",
    "print('Número de disparos del detector C: ', disparosC1020)"
   ]
  },
  {
   "cell_type": "markdown",
   "metadata": {},
   "source": [
    "#### V = 1050 mV"
   ]
  },
  {
   "cell_type": "code",
   "execution_count": 33,
   "metadata": {},
   "outputs": [],
   "source": [
    "detA1050 = V_min_A\n",
    "detB1050 = V_min_D\n",
    "detC1050 = V_min_C\n",
    "detD1050 = V_min_D\n",
    "\n",
    "disparosB1050 = 0\n",
    "disparosC1050 = 0\n",
    "\n",
    "for i in range(len(detA1050)):\n",
    "    if abs(detB1050[i]) >= 150:\n",
    "        disparosB1050 = disparosB1050 + 1\n",
    "    if abs(detC1050[i]) >= 150:\n",
    "        disparosC1050 = disparosC1050 + 1"
   ]
  },
  {
   "cell_type": "code",
   "execution_count": 34,
   "metadata": {},
   "outputs": [
    {
     "name": "stdout",
     "output_type": "stream",
     "text": [
      "-----------------------------------\n",
      "Número de disparos del detector B:  903\n",
      "Número de disparos del detector C:  938\n"
     ]
    }
   ],
   "source": [
    "print('-----------------------------------')\n",
    "print('Número de disparos del detector B: ', disparosB1050)\n",
    "print('Número de disparos del detector C: ', disparosC1050)"
   ]
  },
  {
   "cell_type": "markdown",
   "metadata": {},
   "source": [
    "###############################################################################################################################"
   ]
  },
  {
   "cell_type": "markdown",
   "metadata": {},
   "source": [
    "### Resultados"
   ]
  },
  {
   "cell_type": "code",
   "execution_count": 37,
   "metadata": {},
   "outputs": [],
   "source": [
    "#definimos los vectores donde almacenamos los resultados\n",
    "disparosB = np.array([disparosB900, disparosB920, disparosB940, disparosB960, disparosB980, disparosB1000, disparosB1020, disparosB1050])\n",
    "disparosC = np.array([disparosC900, disparosC920, disparosC940, disparosC960, disparosC980, disparosC1000, disparosC1020, disparosC1050])\n",
    "\n",
    "#definimos también el % de detección\n",
    "disparos_totales = 1000 # =len(detA)=len(detD)\n",
    "EfB = disparosB / (disparos_totales*0.9588)\n",
    "EfC= disparosC / (disparos_totales*0.9588)"
   ]
  },
  {
   "cell_type": "code",
   "execution_count": 38,
   "metadata": {
    "scrolled": true
   },
   "outputs": [
    {
     "data": {
      "image/png": "[encoded data removed]",
      "text/plain": [
       "<Figure size 432x288 with 1 Axes>"
      ]
     },
     "metadata": {
      "needs_background": "light"
     },
     "output_type": "display_data"
    }
   ],
   "source": [
    "voltajes = ['900', '920', '940', '960', '980', '1000', '1020', '1050']\n",
    "  \n",
    "X_axis = np.arange(len(voltajes))\n",
    "  \n",
    "plt.bar(X_axis - 0.15, EfB, width = 0.3, label = 'Aceptancia B', color='#3D59AB', edgecolor='black')\n",
    "plt.bar(X_axis + 0.15, EfC, width = 0.3, label = 'Aceptancia C', color='#006400', edgecolor='black')\n",
    "  \n",
    "plt.xticks(X_axis, voltajes)\n",
    "plt.xlabel(\"Voltaxes aplicadas (mV)\")\n",
    "plt.ylabel(\"Aceptancia\")\n",
    "#plt.title(\"Aceptancia de los detectores\")\n",
    "plt.ylim(0,1)\n",
    "plt.legend(loc='lower right', framealpha=1)\n",
    "plt.savefig('EfBC.pdf')\n",
    "plt.show()"
   ]
  },
  {
   "cell_type": "code",
   "execution_count": 39,
   "metadata": {},
   "outputs": [
    {
     "name": "stdout",
     "output_type": "stream",
     "text": [
      "╒════════════════╤═════════════════════════╤═══════════════╕\n",
      "│   Voltaje (mV) │   Partículas detectadas │   % detección │\n",
      "╞════════════════╪═════════════════════════╪═══════════════╡\n",
      "│            900 │                     333 │       34.7309 │\n",
      "├────────────────┼─────────────────────────┼───────────────┤\n",
      "│            920 │                     469 │       48.9153 │\n",
      "├────────────────┼─────────────────────────┼───────────────┤\n",
      "│            940 │                     604 │       62.9954 │\n",
      "├────────────────┼─────────────────────────┼───────────────┤\n",
      "│            960 │                     726 │       75.7196 │\n",
      "├────────────────┼─────────────────────────┼───────────────┤\n",
      "│            980 │                     792 │       82.6033 │\n",
      "├────────────────┼─────────────────────────┼───────────────┤\n",
      "│           1000 │                     844 │       88.0267 │\n",
      "├────────────────┼─────────────────────────┼───────────────┤\n",
      "│           1020 │                     904 │       94.2845 │\n",
      "├────────────────┼─────────────────────────┼───────────────┤\n",
      "│           1050 │                     903 │       94.1802 │\n",
      "╘════════════════╧═════════════════════════╧═══════════════╛\n"
     ]
    }
   ],
   "source": [
    "#Mostramos los resultados para B\n",
    "resultados = [['900', disparosB[0] , EfB[0]*100],\n",
    "['920', disparosB[1], EfB[1]*100],\n",
    "['940', disparosB[2], EfB[2]*100],\n",
    "['960', disparosB[3], EfB[3]*100],\n",
    "['980', disparosB[4], EfB[4]*100],\n",
    "['1000', disparosB[5], EfB[5]*100],\n",
    "['1020', disparosB[6], EfB[6]*100],\n",
    "['1050', disparosB[7], EfB[7]*100]]\n",
    "\n",
    "print (tabulate(resultados, headers=[\"Voltaje (mV)\", \"Partículas detectadas\", \"% detección\"], tablefmt='fancy_grid'))"
   ]
  },
  {
   "cell_type": "code",
   "execution_count": 40,
   "metadata": {},
   "outputs": [
    {
     "name": "stdout",
     "output_type": "stream",
     "text": [
      "╒════════════════╤═════════════════════════╤═══════════════╕\n",
      "│   Voltaje (mV) │   Partículas detectadas │   % detección │\n",
      "╞════════════════╪═════════════════════════╪═══════════════╡\n",
      "│            900 │                     909 │       94.806  │\n",
      "├────────────────┼─────────────────────────┼───────────────┤\n",
      "│            920 │                     927 │       96.6834 │\n",
      "├────────────────┼─────────────────────────┼───────────────┤\n",
      "│            940 │                     931 │       97.1005 │\n",
      "├────────────────┼─────────────────────────┼───────────────┤\n",
      "│            960 │                     927 │       96.6834 │\n",
      "├────────────────┼─────────────────────────┼───────────────┤\n",
      "│            980 │                     937 │       97.7263 │\n",
      "├────────────────┼─────────────────────────┼───────────────┤\n",
      "│           1000 │                     952 │       99.2908 │\n",
      "├────────────────┼─────────────────────────┼───────────────┤\n",
      "│           1020 │                     936 │       97.622  │\n",
      "├────────────────┼─────────────────────────┼───────────────┤\n",
      "│           1050 │                     938 │       97.8306 │\n",
      "╘════════════════╧═════════════════════════╧═══════════════╛\n"
     ]
    }
   ],
   "source": [
    "#Mostramos los resultados para C\n",
    "resultados = [['900', disparosC[0] , EfC[0]*100],\n",
    "['920', disparosC[1], EfC[1]*100],\n",
    "['940', disparosC[2], EfC[2]*100],\n",
    "['960', disparosC[3], EfC[3]*100],\n",
    "['980', disparosC[4], EfC[4]*100],\n",
    "['1000', disparosC[5], EfC[5]*100],\n",
    "['1020', disparosC[6], EfC[6]*100],\n",
    "['1050', disparosC[7], EfC[7]*100]]\n",
    "\n",
    "print (tabulate(resultados, headers=[\"Voltaje (mV)\", \"Partículas detectadas\", \"% detección\"], tablefmt='fancy_grid'))"
   ]
  },
  {
   "cell_type": "code",
   "execution_count": null,
   "metadata": {},
   "outputs": [],
   "source": []
  }
 ],
 "metadata": {
  "kernelspec": {
   "display_name": "Python 3",
   "language": "python",
   "name": "python3"
  },
  "language_info": {
   "codemirror_mode": {
    "name": "ipython",
    "version": 3
   },
   "file_extension": ".py",
   "mimetype": "text/x-python",
   "name": "python",
   "nbconvert_exporter": "python",
   "pygments_lexer": "ipython3",
   "version": "3.7.4"
  }
 },
 "nbformat": 4,
 "nbformat_minor": 2
}
