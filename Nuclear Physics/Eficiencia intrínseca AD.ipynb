{
 "cells": [
  {
   "cell_type": "markdown",
   "metadata": {},
   "source": [
    "# Eficiencia intrínseca de los detectores A y D"
   ]
  },
  {
   "cell_type": "markdown",
   "metadata": {},
   "source": [
    "#### Este Notebook corresponde al análisis de los detectores BC, es decir, tomaremos los datos con confirguraciones de trigger en AD."
   ]
  },
  {
   "cell_type": "code",
   "execution_count": 77,
   "metadata": {},
   "outputs": [],
   "source": [
    "import numpy as np\n",
    "import matplotlib.pylab as plt\n",
    "import scipy.optimize as so\n",
    "import scipy.special as se #para el factorial\n",
    "import pandas as pd\n",
    "from decimal import * #para las cifras significativas\n",
    "from tabulate import tabulate"
   ]
  },
  {
   "cell_type": "code",
   "execution_count": 78,
   "metadata": {},
   "outputs": [],
   "source": [
    "def leerArchivo(archivo):\n",
    "    completo = open(archivo, 'r')\n",
    "    tiempos = []\n",
    "    datos = []\n",
    "    contador = 0\n",
    "    for linea in completo: #recorremos cada línea del archivo\n",
    "        if len(linea) == 1: #len cuenta los bytes de cada linea: si tiene 1 byte es porque cuenta el salto de linea como \\n\n",
    "            continue\n",
    "        else: #en otro caso, será algún dato de interés\n",
    "            numero_elementos = linea.split() #guardamos los elementos de la línea\n",
    "            if len(numero_elementos) == 1: #si hay un solo elemento, será el tiempo unix\n",
    "                tiempos.append(numero_elementos)\n",
    "                contador += 1\n",
    "            else: #en otro caso, será alguno de los otros datos\n",
    "                datos.append(numero_elementos)\n",
    "                contador += 1\n",
    "    \n",
    "    #el resultado de este bucle es una lista de listas, lo cual no nos interesa porque queremos trabajar con elementos que sean números\n",
    "    tamaño = len(tiempos)\n",
    "    tiempos_unix = [] #almacenamos aquí el tiempo unix\n",
    "    for i in range(tamaño):\n",
    "        tiempos_unix.append(int(tiempos[i][0]))\n",
    "    \n",
    "    #leemos también los datos de los tiempos en ns y las amplitudes de la señal\n",
    "    tiempos_volt = [] #tiempos de registro de amplitudes de señal (cada 4 ns)\n",
    "    numero_iteraciones = len(datos)\n",
    "    for j in range(numero_iteraciones):\n",
    "        tiempos_volt.append(int(datos[j][0]))\n",
    "    medidasA = [] #amplitudes detector A\n",
    "    for k in range(numero_iteraciones):\n",
    "        medidasA.append(int(datos[k][1]))\n",
    "    medidasB = [] #amplitudes detector B\n",
    "    for l in range(numero_iteraciones):\n",
    "        medidasB.append(int(datos[l][2]))\n",
    "    medidasC = [] #amplitudes detector C\n",
    "    for m in range(numero_iteraciones):\n",
    "        medidasC.append(int(datos[m][3]))\n",
    "    medidasD = [] #amplitudes detector D\n",
    "    for n in range(numero_iteraciones):\n",
    "        medidasD.append(int(datos[n][4]))\n",
    "    \n",
    "    return tiempos_unix, tiempos_volt, medidasA, medidasB, medidasC, medidasD, datos"
   ]
  },
  {
   "cell_type": "code",
   "execution_count": 107,
   "metadata": {},
   "outputs": [],
   "source": [
    "medidas = leerArchivo('BC_1050mv.txt')[6]\n",
    "unix = leerArchivo('BC_1050mv.txt')[0]\n",
    "\n",
    "#la función nos devuelve listas con strings, así que pasamos los elementos a float\n",
    "for i in range(len(medidas)):\n",
    "    for j in range(len(medidas[i])):\n",
    "        if type(medidas[i][j]) == str:\n",
    "            medidas[i][j] = float(medidas[i][j])\n",
    "\n",
    "#número de triggers = número de tiempos unix\n",
    "n_sep = len(unix)\n",
    "#creamos una lista de n_sep listas vacías donde almacenaremos los datos de cada medida\n",
    "datos = [[] for k in range(n_sep)]\n",
    "\n",
    "i = 1\n",
    "for j in range(len(datos)):\n",
    "    while medidas[i-1][0] < medidas[i][0] and i < (len(medidas)-1):\n",
    "        datos[j].append(medidas[i-1])\n",
    "        i += 1\n",
    "    else:\n",
    "        i += 1"
   ]
  },
  {
   "cell_type": "markdown",
   "metadata": {},
   "source": [
    "Determinamos los mínimos de cada evento:"
   ]
  },
  {
   "cell_type": "code",
   "execution_count": 108,
   "metadata": {},
   "outputs": [],
   "source": [
    "t_min_A = []\n",
    "t_min_B = []\n",
    "t_min_C = []\n",
    "t_min_D = []\n",
    "\n",
    "V_min_A = []\n",
    "V_min_B = []\n",
    "V_min_C = []\n",
    "V_min_D = []\n",
    "\n",
    "def parabola(x, a, b, c):\n",
    "    return a*x**2 + b*x + c\n",
    "\n",
    "for i in range(len(datos)):\n",
    "    \n",
    "    t = []\n",
    "    \n",
    "    detA = []\n",
    "    detB = []\n",
    "    detC = []\n",
    "    detD = []\n",
    "    \n",
    "    for j in range(len(datos[i])):\n",
    "        t.append(datos[i][j][0])\n",
    "        detA.append(datos[i][j][1])\n",
    "        detB.append(datos[i][j][2])\n",
    "        detC.append(datos[i][j][3])\n",
    "        detD.append(datos[i][j][4])\n",
    "    \n",
    "    t_aux = np.linspace(30,100,1000)\n",
    "    ###############################################\n",
    "    indice_min_A = detA.index(min(detA))\n",
    "    if indice_min_A == (len(detA)-1): #si el mínimo está en el último elemento, añade una nueva línea igual a la penúltima para poder hacer el ajuste a tres puntos\n",
    "                detA.append(detA[indice_min_A-1])\n",
    "                t.append(t[indice_min_A] + t[indice_min_A] - t[indice_min_A])\n",
    "    lA = indice_min_A\n",
    "    tA = [t[lA-1], t[lA], t[lA+1]]\n",
    "    ajusteA = [detA[lA-1], detA[lA], detA[lA+1]]\n",
    "    if min(detA) < -50:\n",
    "        solA, covA = so.curve_fit(parabola, tA, ajusteA)\n",
    "        aA = solA[0] ; bA = solA[1] ; cA = solA[2]\n",
    "        VA = aA*t_aux**2 + bA*t_aux + cA\n",
    "        V_min_A.append(min(VA))\n",
    "        t_min_A.append(t_aux[list(VA).index(min(VA))])\n",
    "    else:\n",
    "        V_min_A.append(0)\n",
    "        t_min_A.append(0)\n",
    "    ###############################################\n",
    "    indice_min_B = detB.index(min(detB))\n",
    "    if indice_min_B == (len(detB)-1):\n",
    "                detB.append(detB[indice_min_B-1])\n",
    "                t.append(t[indice_min_B] + t[indice_min_B] - t[indice_min_B])\n",
    "    lB = indice_min_B\n",
    "    tB = [t[lB-1], t[lB], t[lB+1]]\n",
    "    ajusteB = [detB[lB-1], detB[lB], detB[lB+1]]\n",
    "    if min(detB) < -50:\n",
    "        solB, covB = so.curve_fit(parabola, tB, ajusteB)\n",
    "        aB = solB[0] ; bB = solB[1] ; cB = solB[2]\n",
    "        VB = aB*t_aux**2 + bB*t_aux + cB\n",
    "        V_min_B.append(min(VB))\n",
    "        t_min_B.append(t_aux[list(VB).index(min(VB))])\n",
    "    else:\n",
    "        V_min_B.append(0)\n",
    "        t_min_B.append(0)\n",
    "    ###############################################\n",
    "    indice_min_C = detC.index(min(detC))\n",
    "    if indice_min_C == (len(detC)-1):\n",
    "                detC.append(detC[indice_min_C-1])\n",
    "                t.append(t[indice_min_C] + t[indice_min_C] - t[indice_min_C])\n",
    "    lC = indice_min_C\n",
    "    tC = [t[lC-1], t[lC], t[lC+1]]\n",
    "    ajusteC = [detC[lC-1], detC[lC], detC[lC+1]]\n",
    "    if min(detC) < -50:\n",
    "        solC, covC = so.curve_fit(parabola, tC, ajusteC)\n",
    "        aC = solC[0] ; bC = solC[1] ; cC = solC[2]\n",
    "        VC = aC*t_aux**2 + bC*t_aux + cC\n",
    "        V_min_C.append(min(VC))\n",
    "        t_min_C.append(t_aux[list(VC).index(min(VC))])\n",
    "    else:\n",
    "        V_min_C.append(0)\n",
    "        t_min_C.append(0)\n",
    "    ###############################################\n",
    "    indice_min_D = detD.index(min(detD))\n",
    "    if indice_min_D == (len(detD)-1):\n",
    "                detD.append(detD[indice_min_D-1])\n",
    "                t.append(t[indice_min_D] + t[indice_min_D] - t[indice_min_D])\n",
    "    lD = indice_min_D\n",
    "    tD = [t[lD-1], t[lD], t[lD+1]]\n",
    "    if min(detD) < -50:\n",
    "        ajusteD = [detD[lD-1], detD[lD], detD[lD+1]]\n",
    "        solD, covD = so.curve_fit(parabola, tD, ajusteD)\n",
    "        aD = solD[0] ; bD = solD[1] ; cD = solD[2]\n",
    "        VD = aD*t_aux**2 + bD*t_aux + cD\n",
    "        V_min_D.append(min(VD))\n",
    "        t_min_D.append(t_aux[list(VD).index(min(VD))])\n",
    "    else:\n",
    "        V_min_D.append(0)\n",
    "        t_min_D.append(0)\n",
    "    ###############################################"
   ]
  },
  {
   "cell_type": "markdown",
   "metadata": {},
   "source": [
    "Como el programa del laboratorio solo permitía configurar el trigger en A y B, las columnas no están ordenadas como los detectores. Guardamos los datos en orden en unas nuevas variables.\n",
    "\n",
    "#### Conf BC ---> C1=C, C2=B, C3=A, C4=D"
   ]
  },
  {
   "cell_type": "markdown",
   "metadata": {},
   "source": [
    "#### V = 900 mV"
   ]
  },
  {
   "cell_type": "code",
   "execution_count": 81,
   "metadata": {},
   "outputs": [],
   "source": [
    "detA900 = V_min_C ### columnas no ordenadas con los detectores\n",
    "detB900 = V_min_B\n",
    "detC900 = V_min_A\n",
    "detD900 = V_min_D\n",
    "\n",
    "disparosA900 = 0\n",
    "disparosD900 = 0\n",
    "\n",
    "for i in range(len(detA900)):\n",
    "    if abs(detA900[i]) >= 150:\n",
    "        disparosA900 = disparosA900 + 1\n",
    "    if abs(detD900[i]) >= 150:\n",
    "        disparosD900 = disparosD900 + 1"
   ]
  },
  {
   "cell_type": "code",
   "execution_count": 82,
   "metadata": {},
   "outputs": [
    {
     "name": "stdout",
     "output_type": "stream",
     "text": [
      "-----------------------------------\n",
      "Número de disparos del detector A:  956\n",
      "Número de disparos del detector D:  604\n"
     ]
    }
   ],
   "source": [
    "print('-----------------------------------')\n",
    "print('Número de disparos del detector A: ', disparosA900)\n",
    "print('Número de disparos del detector D: ', disparosD900)"
   ]
  },
  {
   "cell_type": "markdown",
   "metadata": {},
   "source": [
    "#### V = 920 mV"
   ]
  },
  {
   "cell_type": "code",
   "execution_count": 85,
   "metadata": {},
   "outputs": [],
   "source": [
    "detA920 = V_min_C\n",
    "detB920 = V_min_B\n",
    "detC920 = V_min_A\n",
    "detD920 = V_min_D\n",
    "\n",
    "disparosA920 = 0\n",
    "disparosD920 = 0\n",
    "\n",
    "for i in range(len(detA920)):\n",
    "    if abs(detA920[i]) >= 150:\n",
    "        disparosA920 = disparosA920 + 1\n",
    "    if abs(detD920[i]) >= 150:\n",
    "        disparosD920 = disparosD920 + 1"
   ]
  },
  {
   "cell_type": "code",
   "execution_count": 86,
   "metadata": {},
   "outputs": [
    {
     "name": "stdout",
     "output_type": "stream",
     "text": [
      "-----------------------------------\n",
      "Número de disparos del detector A:  985\n",
      "Número de disparos del detector D:  901\n"
     ]
    }
   ],
   "source": [
    "print('-----------------------------------')\n",
    "print('Número de disparos del detector A: ', disparosA920)\n",
    "print('Número de disparos del detector D: ', disparosD920)"
   ]
  },
  {
   "cell_type": "markdown",
   "metadata": {},
   "source": [
    "#### V = 940 mV"
   ]
  },
  {
   "cell_type": "code",
   "execution_count": 89,
   "metadata": {},
   "outputs": [],
   "source": [
    "detA940 = V_min_C\n",
    "detB940 = V_min_B\n",
    "detC940 = V_min_A\n",
    "detD940 = V_min_D\n",
    "\n",
    "disparosA940 = 0\n",
    "disparosD940 = 0\n",
    "\n",
    "for i in range(len(detA940)):\n",
    "    if abs(detA940[i]) >= 150:\n",
    "        disparosA940 = disparosA940 + 1\n",
    "    if abs(detD940[i]) >= 150:\n",
    "        disparosD940 = disparosD940 + 1"
   ]
  },
  {
   "cell_type": "code",
   "execution_count": 90,
   "metadata": {},
   "outputs": [
    {
     "name": "stdout",
     "output_type": "stream",
     "text": [
      "-----------------------------------\n",
      "Número de disparos del detector A:  994\n",
      "Número de disparos del detector D:  954\n"
     ]
    }
   ],
   "source": [
    "print('-----------------------------------')\n",
    "print('Número de disparos del detector A: ', disparosA940)\n",
    "print('Número de disparos del detector D: ', disparosD940)"
   ]
  },
  {
   "cell_type": "markdown",
   "metadata": {},
   "source": [
    "#### V = 960 mV"
   ]
  },
  {
   "cell_type": "code",
   "execution_count": 93,
   "metadata": {},
   "outputs": [],
   "source": [
    "detA960 = V_min_C\n",
    "detB960 = V_min_B\n",
    "detC960 = V_min_A\n",
    "detD960 = V_min_D\n",
    "\n",
    "disparosA960 = 0\n",
    "disparosD960 = 0\n",
    "\n",
    "for i in range(len(detA960)):\n",
    "    if abs(detA960[i]) >= 150:\n",
    "        disparosA960 = disparosA960 + 1\n",
    "    if abs(detD960[i]) >= 150:\n",
    "        disparosD960 = disparosD960 + 1"
   ]
  },
  {
   "cell_type": "code",
   "execution_count": 94,
   "metadata": {},
   "outputs": [
    {
     "name": "stdout",
     "output_type": "stream",
     "text": [
      "-----------------------------------\n",
      "Número de disparos del detector A:  992\n",
      "Número de disparos del detector D:  977\n"
     ]
    }
   ],
   "source": [
    "print('-----------------------------------')\n",
    "print('Número de disparos del detector A: ', disparosA960)\n",
    "print('Número de disparos del detector D: ', disparosD960)"
   ]
  },
  {
   "cell_type": "markdown",
   "metadata": {},
   "source": [
    "#### V = 980 mV"
   ]
  },
  {
   "cell_type": "code",
   "execution_count": 97,
   "metadata": {},
   "outputs": [],
   "source": [
    "detA980 = V_min_C\n",
    "detB980 = V_min_B\n",
    "detC980 = V_min_A\n",
    "detD980 = V_min_D\n",
    "\n",
    "disparosA980 = 0\n",
    "disparosD980 = 0\n",
    "\n",
    "for i in range(len(detA980)):\n",
    "    if abs(detA980[i]) >= 150:\n",
    "        disparosA980 = disparosA980 + 1\n",
    "    if abs(detD980[i]) >= 150:\n",
    "        disparosD980 = disparosD980 + 1"
   ]
  },
  {
   "cell_type": "code",
   "execution_count": 98,
   "metadata": {},
   "outputs": [
    {
     "name": "stdout",
     "output_type": "stream",
     "text": [
      "-----------------------------------\n",
      "Número de disparos del detector A:  996\n",
      "Número de disparos del detector D:  982\n"
     ]
    }
   ],
   "source": [
    "print('-----------------------------------')\n",
    "print('Número de disparos del detector A: ', disparosA980)\n",
    "print('Número de disparos del detector D: ', disparosD980)"
   ]
  },
  {
   "cell_type": "markdown",
   "metadata": {},
   "source": [
    "#### V = 1000 mV"
   ]
  },
  {
   "cell_type": "code",
   "execution_count": 101,
   "metadata": {},
   "outputs": [],
   "source": [
    "detA1000 = V_min_C\n",
    "detB1000 = V_min_B\n",
    "detC1000 = V_min_A\n",
    "detD1000 = V_min_D\n",
    "\n",
    "disparosA1000 = 0\n",
    "disparosD1000 = 0\n",
    "\n",
    "for i in range(len(detA1000)):\n",
    "    if abs(detA1000[i]) >= 150:\n",
    "        disparosA1000 = disparosA1000 + 1\n",
    "    if abs(detD1000[i]) >= 150:\n",
    "        disparosD1000 = disparosD1000 + 1"
   ]
  },
  {
   "cell_type": "code",
   "execution_count": 102,
   "metadata": {},
   "outputs": [
    {
     "name": "stdout",
     "output_type": "stream",
     "text": [
      "-----------------------------------\n",
      "Número de disparos del detector A:  994\n",
      "Número de disparos del detector D:  996\n"
     ]
    }
   ],
   "source": [
    "print('-----------------------------------')\n",
    "print('Número de disparos del detector A: ', disparosA1000)\n",
    "print('Número de disparos del detector D: ', disparosD1000)"
   ]
  },
  {
   "cell_type": "markdown",
   "metadata": {},
   "source": [
    "#### V = 1020 mV"
   ]
  },
  {
   "cell_type": "code",
   "execution_count": 105,
   "metadata": {},
   "outputs": [],
   "source": [
    "detA1020 = V_min_C\n",
    "detB1020 = V_min_B\n",
    "detC1020 = V_min_A\n",
    "detD1020 = V_min_D\n",
    "\n",
    "disparosA1020 = 0\n",
    "disparosD1020 = 0\n",
    "\n",
    "for i in range(len(detA1020)):\n",
    "    if abs(detA1020[i]) >= 150:\n",
    "        disparosA1020 = disparosA1020 + 1\n",
    "    if abs(detD1020[i]) >= 150:\n",
    "        disparosD1020 = disparosD1020 + 1"
   ]
  },
  {
   "cell_type": "code",
   "execution_count": 106,
   "metadata": {},
   "outputs": [
    {
     "name": "stdout",
     "output_type": "stream",
     "text": [
      "-----------------------------------\n",
      "Número de disparos del detector A:  995\n",
      "Número de disparos del detector D:  993\n"
     ]
    }
   ],
   "source": [
    "print('-----------------------------------')\n",
    "print('Número de disparos del detector A: ', disparosA1020)\n",
    "print('Número de disparos del detector D: ', disparosD1020)"
   ]
  },
  {
   "cell_type": "markdown",
   "metadata": {},
   "source": [
    "#### V = 1050 mV"
   ]
  },
  {
   "cell_type": "code",
   "execution_count": 109,
   "metadata": {},
   "outputs": [],
   "source": [
    "detA1050 = V_min_C\n",
    "detB1050 = V_min_B\n",
    "detC1050 = V_min_A\n",
    "detD1050 = V_min_D\n",
    "\n",
    "disparosA1050 = 0\n",
    "disparosD1050 = 0\n",
    "\n",
    "for i in range(len(detA1050)):\n",
    "    if abs(detA1050[i]) >= 150:\n",
    "        disparosA1050 = disparosA1050 + 1\n",
    "    if abs(detD1050[i]) >= 150:\n",
    "        disparosD1050 = disparosD1050 + 1"
   ]
  },
  {
   "cell_type": "code",
   "execution_count": 110,
   "metadata": {},
   "outputs": [
    {
     "name": "stdout",
     "output_type": "stream",
     "text": [
      "-----------------------------------\n",
      "Número de disparos del detector A:  997\n",
      "Número de disparos del detector D:  995\n"
     ]
    }
   ],
   "source": [
    "print('-----------------------------------')\n",
    "print('Número de disparos del detector A: ', disparosA1050)\n",
    "print('Número de disparos del detector D: ', disparosD1050)"
   ]
  },
  {
   "cell_type": "markdown",
   "metadata": {},
   "source": [
    "###############################################################################################################################"
   ]
  },
  {
   "cell_type": "markdown",
   "metadata": {},
   "source": [
    "### Resultados"
   ]
  },
  {
   "cell_type": "code",
   "execution_count": 126,
   "metadata": {},
   "outputs": [
    {
     "data": {
      "image/png": "[encoded data removed]",
      "text/plain": [
       "<Figure size 432x288 with 1 Axes>"
      ]
     },
     "metadata": {
      "needs_background": "light"
     },
     "output_type": "display_data"
    }
   ],
   "source": [
    "#definimos los vectores donde almacenamos los resultados\n",
    "disparosA = np.array([disparosA900, disparosA920, disparosA940, disparosA960, disparosA980, disparosA1000, disparosA1020, disparosA1050])\n",
    "disparosD = np.array([disparosD900, disparosD920, disparosD940, disparosD960, disparosD980, disparosD1000, disparosD1020, disparosD1050])\n",
    "\n",
    "#definimos también el % de detección\n",
    "disparos_totales = 1000 # =len(detA)=len(detD)\n",
    "#es necesario introducir el parámetro geométrico en este caso, pues haciendo trigger en BC no nos aseguramos de que el muón\n",
    "#haya pasado por AD (calculado en el MC para 2 detectores consecutivos)\n",
    "EfGeom = 0.9588\n",
    "EfA = disparosA / (disparos_totales)\n",
    "EfD= disparosD / (disparos_totales)\n",
    "\n",
    "voltajes = ['900', '920', '940', '960', '980', '1000', '1020', '1050']\n",
    "  \n",
    "X_axis = np.arange(len(voltajes))\n",
    "  \n",
    "plt.bar(X_axis - 0.15, EfA, width = 0.3, label = 'Aceptancia A', color='firebrick', edgecolor='black')\n",
    "plt.bar(X_axis + 0.15, EfD, width = 0.3, label = 'Aceptancia D', color='mediumpurple', edgecolor='black')\n",
    "  \n",
    "plt.xticks(X_axis, voltajes)\n",
    "plt.xlabel(\"Voltaxes aplicadas (mV)\")\n",
    "plt.ylabel(\"Aceptancia\")\n",
    "#plt.title(\"Eficiencia de los detectores\")\n",
    "plt.ylim(0,1)\n",
    "plt.legend(loc='lower right', framealpha=1)\n",
    "plt.savefig('EfAD.pdf')\n",
    "plt.show()"
   ]
  },
  {
   "cell_type": "code",
   "execution_count": 112,
   "metadata": {},
   "outputs": [
    {
     "name": "stdout",
     "output_type": "stream",
     "text": [
      "╒════════════════╤═════════════════════════╤═══════════════╕\n",
      "│   Voltaje (mV) │   Partículas detectadas │   % detección │\n",
      "╞════════════════╪═════════════════════════╪═══════════════╡\n",
      "│            900 │                     956 │          95.6 │\n",
      "├────────────────┼─────────────────────────┼───────────────┤\n",
      "│            920 │                     985 │          98.5 │\n",
      "├────────────────┼─────────────────────────┼───────────────┤\n",
      "│            940 │                     994 │          99.4 │\n",
      "├────────────────┼─────────────────────────┼───────────────┤\n",
      "│            960 │                     992 │          99.2 │\n",
      "├────────────────┼─────────────────────────┼───────────────┤\n",
      "│            980 │                     996 │          99.6 │\n",
      "├────────────────┼─────────────────────────┼───────────────┤\n",
      "│           1000 │                     994 │          99.4 │\n",
      "├────────────────┼─────────────────────────┼───────────────┤\n",
      "│           1020 │                     995 │          99.5 │\n",
      "├────────────────┼─────────────────────────┼───────────────┤\n",
      "│           1050 │                     997 │          99.7 │\n",
      "╘════════════════╧═════════════════════════╧═══════════════╛\n"
     ]
    }
   ],
   "source": [
    "#Mostramos los resultados para A\n",
    "resultados = [['900', disparosA[0] , EfA[0]*100],\n",
    "['920', disparosA[1], EfA[1]*100],\n",
    "['940', disparosA[2], EfA[2]*100],\n",
    "['960', disparosA[3], EfA[3]*100],\n",
    "['980', disparosA[4], EfA[4]*100],\n",
    "['1000', disparosA[5], EfA[5]*100],\n",
    "['1020', disparosA[6], EfA[6]*100],\n",
    "['1050', disparosA[7], EfA[7]*100]]\n",
    "\n",
    "print (tabulate(resultados, headers=[\"Voltaje (mV)\", \"Partículas detectadas\", \"% detección\"], tablefmt='fancy_grid'))"
   ]
  },
  {
   "cell_type": "code",
   "execution_count": 113,
   "metadata": {
    "scrolled": true
   },
   "outputs": [
    {
     "name": "stdout",
     "output_type": "stream",
     "text": [
      "╒════════════════╤═════════════════════════╤═══════════════╕\n",
      "│   Voltaje (mV) │   Partículas detectadas │   % detección │\n",
      "╞════════════════╪═════════════════════════╪═══════════════╡\n",
      "│            900 │                     604 │          60.4 │\n",
      "├────────────────┼─────────────────────────┼───────────────┤\n",
      "│            920 │                     901 │          90.1 │\n",
      "├────────────────┼─────────────────────────┼───────────────┤\n",
      "│            940 │                     954 │          95.4 │\n",
      "├────────────────┼─────────────────────────┼───────────────┤\n",
      "│            960 │                     977 │          97.7 │\n",
      "├────────────────┼─────────────────────────┼───────────────┤\n",
      "│            980 │                     982 │          98.2 │\n",
      "├────────────────┼─────────────────────────┼───────────────┤\n",
      "│           1000 │                     996 │          99.6 │\n",
      "├────────────────┼─────────────────────────┼───────────────┤\n",
      "│           1020 │                     993 │          99.3 │\n",
      "├────────────────┼─────────────────────────┼───────────────┤\n",
      "│           1050 │                     995 │          99.5 │\n",
      "╘════════════════╧═════════════════════════╧═══════════════╛\n"
     ]
    }
   ],
   "source": [
    "#Mostramos los resultados para D\n",
    "resultados = [['900', disparosD[0] , EfD[0]*100],\n",
    "['920', disparosD[1], EfD[1]*100],\n",
    "['940', disparosD[2], EfD[2]*100],\n",
    "['960', disparosD[3], EfD[3]*100],\n",
    "['980', disparosD[4], EfD[4]*100],\n",
    "['1000', disparosD[5], EfD[5]*100],\n",
    "['1020', disparosD[6], EfD[6]*100],\n",
    "['1050', disparosD[7], EfD[7]*100]]\n",
    "\n",
    "print (tabulate(resultados, headers=[\"Voltaje (mV)\", \"Partículas detectadas\", \"% detección\"], tablefmt='fancy_grid'))"
   ]
  },
  {
   "cell_type": "code",
   "execution_count": null,
   "metadata": {},
   "outputs": [],
   "source": []
  }
 ],
 "metadata": {
  "kernelspec": {
   "display_name": "Python 3",
   "language": "python",
   "name": "python3"
  },
  "language_info": {
   "codemirror_mode": {
    "name": "ipython",
    "version": 3
   },
   "file_extension": ".py",
   "mimetype": "text/x-python",
   "name": "python",
   "nbconvert_exporter": "python",
   "pygments_lexer": "ipython3",
   "version": "3.7.4"
  }
 },
 "nbformat": 4,
 "nbformat_minor": 2
}
