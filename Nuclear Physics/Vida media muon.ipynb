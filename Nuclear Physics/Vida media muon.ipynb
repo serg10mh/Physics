{
 "cells": [
  {
   "cell_type": "markdown",
   "metadata": {},
   "source": [
    "# Determinación de la vida media del $\\mu$"
   ]
  },
  {
   "cell_type": "markdown",
   "metadata": {},
   "source": [
    "En el laboratorio hemos dejado toda la noche midiendo con la configuración de trigger ABC-noD. De esta forma, registraremos la medida de muones que atraviesen los 3 primeros detectores y se frenen en la plancha de Pb. Una vez esto ocurre, medimos el máximo de potencial para cualquier detector y determinamos el tiempo realizando un ajuste parabólico, utilizando el máximo medido y sus dos puntos más próximos.\n",
    "\n",
    "********************** revisar esto !!!!!!!!!!!!!!!!!!!!!!!!!!!!!!!!!!!!!!!!!!!!!!!!!!!!!!!!!!!!!!!!!!!!!\n",
    "\n",
    "Una vez teniendo los tiempos característicos y el número de cuentas, ajustaremos los datos obtenidos a la ley exponencial de desintegración:\n",
    "\n",
    "$$ N = N_{0} e^{-t/\\tau} $$\n",
    "\n",
    "donde $\\tau$ será la vida media del $\\mu$"
   ]
  },
  {
   "cell_type": "code",
   "execution_count": 1,
   "metadata": {},
   "outputs": [],
   "source": [
    "import numpy as np\n",
    "import matplotlib.pylab as plt\n",
    "import scipy.optimize as so\n",
    "import scipy.special as se #para el factorial\n",
    "import pandas as pd\n",
    "from decimal import * #para las cifras significativas\n",
    "from time import time\n",
    "from scipy import stats #para el test de chi"
   ]
  },
  {
   "cell_type": "markdown",
   "metadata": {},
   "source": [
    "Leemos los datos desde el archivo .txt"
   ]
  },
  {
   "cell_type": "code",
   "execution_count": 2,
   "metadata": {},
   "outputs": [],
   "source": [
    "def leerArchivo(archivo):\n",
    "    completo = open(archivo, 'r')\n",
    "    tiempos = []\n",
    "    datos = []\n",
    "    contador = 0\n",
    "    for linea in completo: #recorremos cada línea del archivo\n",
    "        if len(linea) == 1: #len cuenta los bytes de cada linea: si tiene 1 byte es porque cuenta el salto de linea como \\n\n",
    "            continue\n",
    "        else: #en otro caso, será algún dato de interés\n",
    "            numero_elementos = linea.split() #guardamos los elementos de la línea\n",
    "            if len(numero_elementos) == 1: #si hay un solo elemento, será el tiempo unix\n",
    "                tiempos.append(numero_elementos)\n",
    "                contador += 1\n",
    "            else: #en otro caso, será alguno de los otros datos\n",
    "                datos.append(numero_elementos)\n",
    "                contador += 1\n",
    "    \n",
    "    #el resultado de este bucle es una lista de listas, lo cual no nos interesa porque queremos trabajar con elementos que sean números\n",
    "    tamaño = len(tiempos)\n",
    "    tiempos_unix = [] #almacenamos aquí el tiempo unix\n",
    "    for i in range(tamaño):\n",
    "        tiempos_unix.append(int(tiempos[i][0]))\n",
    "    \n",
    "    #leemos también los datos de los tiempos en ns y las amplitudes de la señal\n",
    "    tiempos_volt = [] #tiempos de registro de amplitudes de señal (cada 4 ns)\n",
    "    numero_iteraciones = len(datos)\n",
    "    for j in range(numero_iteraciones):\n",
    "        tiempos_volt.append(int(datos[j][0]))\n",
    "    medidasA = [] #amplitudes detector A\n",
    "    for k in range(numero_iteraciones):\n",
    "        medidasA.append(int(datos[k][1]))\n",
    "    medidasB = [] #amplitudes detector B\n",
    "    for l in range(numero_iteraciones):\n",
    "        medidasB.append(int(datos[l][2]))\n",
    "    medidasC = [] #amplitudes detector C\n",
    "    for m in range(numero_iteraciones):\n",
    "        medidasC.append(int(datos[m][3]))\n",
    "    medidasD = [] #amplitudes detector D\n",
    "    for n in range(numero_iteraciones):\n",
    "        medidasD.append(int(datos[n][4]))\n",
    "    \n",
    "    return tiempos_unix, tiempos_volt, medidasA, medidasB, medidasC, medidasD, datos"
   ]
  },
  {
   "cell_type": "markdown",
   "metadata": {},
   "source": [
    "Primero usaremos los datos recogidos por nosotros. Después usaremos los proporcionados por el profesor para distintos umbrales, donde podremos realizar un estudio dependiendo de esta última variable."
   ]
  },
  {
   "cell_type": "code",
   "execution_count": 3,
   "metadata": {},
   "outputs": [],
   "source": [
    "medidas_mu = leerArchivo('datos_lab_21a22Feb.txt')[6]\n",
    "\"\"\"\n",
    "tiempos_completo = leerArchivo('VidaMediaMuonPlomo.txt')[1]\n",
    "medA = leerArchivo('VidaMediaMuonPlomo.txt')[2]\n",
    "medB = leerArchivo('VidaMediaMuonPlomo.txt')[3]\n",
    "medC = leerArchivo('VidaMediaMuonPlomo.txt')[4]\n",
    "medD = leerArchivo('VidaMediaMuonPlomo.txt')[5]\n",
    "\"\"\"\n",
    "unix = leerArchivo('datos_lab_21a22Feb.txt')[0]"
   ]
  },
  {
   "cell_type": "code",
   "execution_count": 4,
   "metadata": {},
   "outputs": [],
   "source": [
    "#la función nos devuelve listas con strings, así que pasamos los elementos a float\n",
    "for i in range(len(medidas_mu)):\n",
    "    for j in range(len(medidas_mu[i])):\n",
    "        if type(medidas_mu[i][j]) == str:\n",
    "            medidas_mu[i][j] = float(medidas_mu[i][j])"
   ]
  },
  {
   "cell_type": "code",
   "execution_count": 5,
   "metadata": {},
   "outputs": [
    {
     "data": {
      "text/plain": [
       "'\\n#guardamos en un array solo las filas posteriores al trigger (t = 40 ns)\\nmedidas = []\\nfor i in range(len(medidas_mu)):\\n    if medidas_mu[i][0] >= 40:\\n        medidas.append(medidas_mu[i])'"
      ]
     },
     "execution_count": 5,
     "metadata": {},
     "output_type": "execute_result"
    }
   ],
   "source": [
    "\"\"\"\n",
    "#guardamos en un array solo las filas posteriores al trigger (t = 40 ns)\n",
    "medidas = []\n",
    "for i in range(len(medidas_mu)):\n",
    "    if medidas_mu[i][0] >= 40:\n",
    "        medidas.append(medidas_mu[i])\"\"\""
   ]
  },
  {
   "cell_type": "code",
   "execution_count": 6,
   "metadata": {},
   "outputs": [],
   "source": [
    "#número de triggers = número de tiempos unix\n",
    "n_sep = len(unix)\n",
    "#creamos una lista de n_sep listas vacías donde almacenaremos los datos de cada medida\n",
    "datos = [[] for k in range(n_sep)]\n",
    "\n",
    "i = 1\n",
    "for j in range(len(datos)):\n",
    "    while medidas_mu[i-1][0] < medidas_mu[i][0] and i < (len(medidas_mu)-1):\n",
    "        datos[j].append(medidas_mu[i-1])\n",
    "        i += 1\n",
    "    else:\n",
    "        i += 1"
   ]
  },
  {
   "cell_type": "markdown",
   "metadata": {},
   "source": [
    "En primer lugar, se dará un mínimo de potencial en los 3 primeros detectores (condición de trigger). A continuación, cuando el muón se detenga en la plancha de plomo y se desintegre, se observará otro mínimo en el detector C (si el muón se frena en la superficie superior del plomo y sale despedido hacia arriba) o en el detector D (si se frena en la parte inferior y el electrón sale hacia abajo).\n",
    "\n",
    "Este segundo pulso no tiene por qué verse, de hecho observando las series de datos obtenidas en muy pocas se logra identificar. La razón es que el electrón puede quedarse en el mismo plomo si el muón se frena en un lugar intermedio de su grosor, puede salir despedido hacia algún lateral...."
   ]
  },
  {
   "cell_type": "markdown",
   "metadata": {},
   "source": [
    "En la siguiente caja de código calcularemos los valores mínimos del potencial y su tiempo. Este tiempo será el que usaremos como referencia para calcular la vida media del $\\mu$, siendo esta la diferencia entre el tiempo calculado y el tiempo asociado al pulso detectado por la desintegración del electrón."
   ]
  },
  {
   "cell_type": "code",
   "execution_count": 7,
   "metadata": {},
   "outputs": [
    {
     "name": "stderr",
     "output_type": "stream",
     "text": [
      "C:\\Users\\sergi\\Anaconda3\\lib\\site-packages\\scipy\\optimize\\minpack.py:795: OptimizeWarning: Covariance of the parameters could not be estimated\n",
      "  category=OptimizeWarning)\n"
     ]
    },
    {
     "name": "stdout",
     "output_type": "stream",
     "text": [
      "tiempo de ejecución:  235.51967549324036\n"
     ]
    }
   ],
   "source": [
    "start_time = time()\n",
    "\n",
    "t_min_A_trigger = []\n",
    "t_min_A_desint = []\n",
    "V_min_A_trigger = []\n",
    "V_min_A_desint = []\n",
    "\n",
    "t_min_B_trigger = []\n",
    "t_min_B_desint = []\n",
    "V_min_B_trigger = []\n",
    "V_min_B_desint = []\n",
    "\n",
    "t_min_C_trigger = []\n",
    "t_min_C_desint = []\n",
    "V_min_C_trigger = []\n",
    "V_min_C_desint= []\n",
    "\n",
    "t_min_D_trigger = []\n",
    "t_min_D_desint = []\n",
    "V_min_D_trigger = []\n",
    "V_min_D_desint = []\n",
    "\n",
    "indices_mu = []\n",
    "\n",
    "def parabola(x, a, b, c):\n",
    "    return a*x**2 + b*x + c\n",
    "\n",
    "for i in range(len(datos)):\n",
    "    \n",
    "    t = []\n",
    "    \n",
    "    for j in range(len(datos[i])):\n",
    "        t.append(datos[i][j][0])\n",
    "    \n",
    "    for k in range(1,len(t)):\n",
    "        if t[k]-t[k-1] > 50 and t[k] > 40:\n",
    "            \n",
    "            indices_mu.append(i)\n",
    "            \n",
    "            trigger = []\n",
    "            desint = []\n",
    "            \n",
    "            l = 1\n",
    "            while datos[i][l][0] - datos[i][l-1][0] == 4: #hacer el código de nuevo, quitar los det y usar los datos trigger y desint separados para analizar los mínimos\n",
    "                trigger.append(datos[i][l-1])\n",
    "                l += 1\n",
    "            else:\n",
    "                for m in range(len(datos[i])-l):\n",
    "                    desint.append(datos[i][m+l])\n",
    "                l += 1\n",
    "            \n",
    "            ########################################\n",
    "            detA_trigger = []\n",
    "            detB_trigger = []\n",
    "            detC_trigger = []\n",
    "            detD_trigger = []\n",
    "    \n",
    "            for n in range(len(trigger)):\n",
    "                detA_trigger.append(trigger[n][1])\n",
    "                detB_trigger.append(trigger[n][2])\n",
    "                detC_trigger.append(trigger[n][3])\n",
    "                detD_trigger.append(trigger[n][4])\n",
    "            ########################################   \n",
    "            detA_desint = []\n",
    "            detB_desint = []\n",
    "            detC_desint = []\n",
    "            detD_desint = []\n",
    "            \n",
    "            for p in range(len(desint)):\n",
    "                detA_desint.append(desint[p][1])\n",
    "                detB_desint.append(desint[p][2])\n",
    "                detC_desint.append(desint[p][3])\n",
    "                detD_desint.append(desint[p][4])\n",
    "            #######################################\n",
    "            \n",
    "            t_aux = np.linspace(30,10000,100000)\n",
    "            \n",
    "            ###############################################################################################\n",
    "            indice_min_A_trigger = detA_trigger.index(min(detA_trigger))\n",
    "            tA_trigger = [t[indice_min_A_trigger-1], t[indice_min_A_trigger], t[indice_min_A_trigger+1]]\n",
    "            ajusteA_trigger = [detA_trigger[indice_min_A_trigger-1], detA_trigger[indice_min_A_trigger], detA_trigger[indice_min_A_trigger+1]]\n",
    "            solA_trigger, covA_trigger = so.curve_fit(parabola, tA_trigger, ajusteA_trigger)\n",
    "            aA_trigger = solA_trigger[0] ; bA_trigger = solA_trigger[1] ; cA_trigger = solA_trigger[2]\n",
    "            VA_trigger = aA_trigger*t_aux**2 + bA_trigger*t_aux + cA_trigger\n",
    "            V_min_A_trigger.append(min(VA_trigger))\n",
    "            t_min_A_trigger.append(t_aux[list(VA_trigger).index(min(VA_trigger))])\n",
    "            \n",
    "            indice_min_A_desint = detA_desint.index(min(detA_desint))\n",
    "            if indice_min_A_desint == (len(detA_desint)-1):\n",
    "                detA_desint.append(detA_desint[indice_min_A_desint-1])\n",
    "                t.append(t[indice_min_A_desint+len(detA_trigger)] + t[indice_min_A_desint+len(detA_trigger)] - t[indice_min_A_desint-1+len(detA_trigger)])\n",
    "            if abs(min(detA_desint)) > 50 and len(detA_desint) > 2: #añadimos una cota mínima para considerarlo detección\n",
    "                tA_desint = [t[indice_min_A_desint-1+len(detA_trigger)], t[indice_min_A_desint+len(detA_trigger)], t[indice_min_A_desint+1+len(detA_trigger)]]\n",
    "                ajusteA_desint = [detA_desint[indice_min_A_desint-1], detA_desint[indice_min_A_desint], detA_desint[indice_min_A_desint+1]]\n",
    "                solA_desint, covA_desint = so.curve_fit(parabola, tA_desint, ajusteA_desint)\n",
    "                aA_desint = solA_desint[0] ; bA_desint = solA_desint[1] ; cA_desint = solA_desint[2]\n",
    "                VA_desint = aA_desint*t_aux**2 + bA_desint*t_aux + cA_desint\n",
    "                V_min_A_desint.append(min(VA_desint))\n",
    "                t_min_A_desint.append(t_aux[list(VA_desint).index(min(VA_desint))])\n",
    "            else:\n",
    "                V_min_A_desint.append(0)\n",
    "                t_min_A_desint.append(t_aux[list(VA_trigger).index(min(VA_trigger))]) #si no hay otro mínimo, añadimos el tiempo del trigger para que tau sea nulo\n",
    "            \n",
    "            ###############################################################################################\n",
    "            \n",
    "            indice_min_B_trigger = detB_trigger.index(min(detB_trigger))\n",
    "            tB_trigger = [t[indice_min_B_trigger-1], t[indice_min_B_trigger], t[indice_min_B_trigger+1]]\n",
    "            ajusteB_trigger = [detB_trigger[indice_min_B_trigger-1], detB_trigger[indice_min_B_trigger], detB_trigger[indice_min_B_trigger+1]]\n",
    "            solB_trigger, covB_trigger = so.curve_fit(parabola, tB_trigger, ajusteB_trigger)\n",
    "            aB_trigger = solB_trigger[0] ; bB_trigger = solB_trigger[1] ; cB_trigger = solB_trigger[2]\n",
    "            VB_trigger = aB_trigger*t_aux**2 + bB_trigger*t_aux + cB_trigger\n",
    "            V_min_B_trigger.append(min(VB_trigger))\n",
    "            t_min_B_trigger.append(t_aux[list(VB_trigger).index(min(VB_trigger))])\n",
    "            \n",
    "            indice_min_B_desint = detB_desint.index(min(detB_desint))\n",
    "            if indice_min_B_desint == (len(detB_desint)-1):\n",
    "                detB_desint.append(detB_desint[indice_min_B_desint-1])\n",
    "                t.append(t[indice_min_B_desint+len(detB_trigger)] + t[indice_min_B_desint+len(detB_trigger)] - t[indice_min_B_desint-1+len(detB_trigger)])\n",
    "            if abs(min(detB_desint)) > 50 and len(detB_desint) > 2: #añadimos una cota mínima para considerarlo detección\n",
    "                tB_desint = [t[indice_min_B_desint-1+len(detB_trigger)], t[indice_min_B_desint+len(detB_trigger)], t[indice_min_B_desint+1+len(detB_trigger)]]\n",
    "                ajusteB_desint = [detB_desint[indice_min_B_desint-1], detB_desint[indice_min_B_desint], detB_desint[indice_min_B_desint+1]]\n",
    "                solB_desint, covB_desint = so.curve_fit(parabola, tB_desint, ajusteB_desint)\n",
    "                aB_desint = solB_desint[0] ; bB_desint = solB_desint[1] ; cB_desint = solB_desint[2]\n",
    "                VB_desint = aB_desint*t_aux**2 + bB_desint*t_aux + cB_desint\n",
    "                V_min_B_desint.append(min(VB_desint))\n",
    "                t_min_B_desint.append(t_aux[list(VB_desint).index(min(VB_desint))])\n",
    "            else:\n",
    "                V_min_B_desint.append(0)\n",
    "                t_min_B_desint.append(t_aux[list(VB_trigger).index(min(VB_trigger))]) #si no hay otro mínimo, añadimos el tiempo del trigger para que tau sea nulo\n",
    "            \n",
    "            ###############################################################################################\n",
    "            \n",
    "            indice_min_C_trigger = detC_trigger.index(min(detC_trigger))\n",
    "            tC_trigger = [t[indice_min_C_trigger-1], t[indice_min_C_trigger], t[indice_min_C_trigger+1]]\n",
    "            ajusteC_trigger = [detC_trigger[indice_min_C_trigger-1], detC_trigger[indice_min_C_trigger], detC_trigger[indice_min_C_trigger+1]]\n",
    "            solC_trigger, covC_trigger = so.curve_fit(parabola, tC_trigger, ajusteC_trigger)\n",
    "            aC_trigger = solC_trigger[0] ; bC_trigger = solC_trigger[1] ; cC_trigger = solC_trigger[2]\n",
    "            VC_trigger = aC_trigger*t_aux**2 + bC_trigger*t_aux + cC_trigger\n",
    "            V_min_C_trigger.append(min(VC_trigger))\n",
    "            t_min_C_trigger.append(t_aux[list(VC_trigger).index(min(VC_trigger))])\n",
    "            \n",
    "            indice_min_C_desint = detC_desint.index(min(detC_desint))\n",
    "            if indice_min_C_desint == (len(detC_desint)-1):\n",
    "                detC_desint.append(detC_desint[indice_min_C_desint-1])\n",
    "                t.append(t[indice_min_C_desint+len(detC_trigger)] + t[indice_min_C_desint+len(detC_trigger)] - t[indice_min_C_desint-1+len(detC_trigger)])\n",
    "            if abs(min(detC_desint)) > 50 and len(detC_desint) > 2: #añadimos una cota mínima para considerarlo detección\n",
    "                tC_desint = [t[indice_min_C_desint-1+len(detC_trigger)], t[indice_min_C_desint+len(detC_trigger)], t[indice_min_C_desint+1+len(detC_trigger)]]\n",
    "                ajusteC_desint = [detC_desint[indice_min_C_desint-1], detC_desint[indice_min_C_desint], detC_desint[indice_min_C_desint+1]]\n",
    "                solC_desint, covC_desint = so.curve_fit(parabola, tC_desint, ajusteC_desint)\n",
    "                aC_desint = solC_desint[0] ; bC_desint = solC_desint[1] ; cC_desint = solC_desint[2]\n",
    "                VC_desint = aC_desint*t_aux**2 + bC_desint*t_aux + cC_desint\n",
    "                V_min_C_desint.append(min(VC_desint))\n",
    "                t_min_C_desint.append(t_aux[list(VC_desint).index(min(VC_desint))])\n",
    "            else:\n",
    "                V_min_C_desint.append(0)\n",
    "                t_min_C_desint.append(t_aux[list(VC_trigger).index(min(VC_trigger))]) #si no hay otro mínimo, añadimos el tiempo del trigger para que tau sea nulo\n",
    "            \n",
    "            ###############################################################################################\n",
    "            \n",
    "            #no tiene sentido analizar D en la región de trigger porque nunca va a detectar\n",
    "            \n",
    "            \"\"\"indice_min_indice_min_D_trigger = detD_trigger.index(min(detD_trigger))\n",
    "            tD_trigger = [t[indice_min_D_trigger-1], t[indice_min_D_trigger], t[indice_min_D_trigger+1]]\n",
    "            ajusteD_trigger = [detD_trigger[indice_min_D_trigger-1], detD_trigger[indice_min_D_trigger], detD_trigger[indice_min_D_trigger+1]]\n",
    "            solD_trigger, covD_trigger = so.curve_fit(parabola, tD_trigger, ajusteD_trigger)\n",
    "            aD_trigger = solD_trigger[0] ; bD_trigger = solD_trigger[1] ; cD_trigger = solD_trigger[2]\n",
    "            VD_trigger = aD_trigger*t_aux**2 + bD_trigger*t_aux + cD_trigger\n",
    "            V_min_D_trigger.append(min(VD_trigger))\n",
    "            t_min_D_trigger.append(t_aux[list(VD_trigger).index(min(VD_trigger))])\"\"\"\n",
    "            \n",
    "            #añadimos el tiempo del mínimo con más amplitud de los 3 detectores superiores\n",
    "            if V_min_A_trigger < V_min_B_trigger and V_min_A_trigger < V_min_C_trigger:\n",
    "                tD_trigger = tA_trigger\n",
    "                t_min_D_trigger.append(t_aux[list(VA_trigger).index(min(VA_trigger))])\n",
    "            elif V_min_B_trigger < V_min_A_trigger and V_min_B_trigger < V_min_C_trigger:\n",
    "                tD_trigger = tB_trigger\n",
    "                t_min_D_trigger.append(t_aux[list(VB_trigger).index(min(VB_trigger))])\n",
    "            elif V_min_C_trigger < V_min_A_trigger and V_min_C_trigger < V_min_B_trigger:\n",
    "                tD_trigger = tC_trigger\n",
    "                t_min_D_trigger.append(t_aux[list(VC_trigger).index(min(VC_trigger))])\n",
    "                        \n",
    "            indice_min_D_desint = detD_desint.index(min(detD_desint))\n",
    "            if indice_min_D_desint == (len(detD_desint)-1):\n",
    "                detD_desint.append(detD_desint[indice_min_D_desint-1])\n",
    "                t.append(t[indice_min_D_desint+len(detD_trigger)] + t[indice_min_D_desint+len(detD_trigger)] - t[indice_min_D_desint-1+len(detD_trigger)])\n",
    "            if abs(min(detD_desint)) > 50 and len(detD_desint) > 2: #añadimos una cota mínima para considerarlo detección\n",
    "                tD_desint = [t[indice_min_D_desint-1+len(detD_trigger)], t[indice_min_D_desint+len(detD_trigger)], t[indice_min_D_desint+1+len(detD_trigger)]]\n",
    "                ajusteD_desint = [detD_desint[indice_min_D_desint-1], detD_desint[indice_min_D_desint], detD_desint[indice_min_D_desint+1]]\n",
    "                solD_desint, covD_desint = so.curve_fit(parabola, tD_desint, ajusteD_desint)\n",
    "                aD_desint = solD_desint[0] ; bD_desint = solD_desint[1] ; cD_desint = solD_desint[2]\n",
    "                VD_desint = aD_desint*t_aux**2 + bD_desint*t_aux + cD_desint\n",
    "                V_min_D_desint.append(min(VD_desint))\n",
    "                t_min_D_desint.append(t_aux[list(VD_desint).index(min(VD_desint))])\n",
    "            else: #si no hay otro mínimo, añadimos el tiempo del trigger para que tau sea nulo\n",
    "                V_min_D_desint.append(0)\n",
    "                if V_min_A_trigger < V_min_B_trigger and V_min_A_trigger < V_min_C_trigger:\n",
    "                    t_min_D_desint.append(t_aux[list(VA_trigger).index(min(VA_trigger))])\n",
    "                elif V_min_B_trigger < V_min_A_trigger and V_min_B_trigger < V_min_C_trigger:\n",
    "                    t_min_D_desint.append(t_aux[list(VB_trigger).index(min(VB_trigger))])\n",
    "                elif V_min_C_trigger < V_min_A_trigger and V_min_C_trigger < V_min_B_trigger:\n",
    "                    t_min_D_desint.append(t_aux[list(VC_trigger).index(min(VC_trigger))])\n",
    "\n",
    "            ###############################################################################################\n",
    "end_time = time()\n",
    "print('tiempo de ejecución: ', end_time - start_time)"
   ]
  },
  {
   "cell_type": "code",
   "execution_count": 8,
   "metadata": {},
   "outputs": [],
   "source": [
    "#Definimos los tiempos de vida media como la diferencia entre mínimos\n",
    "            \n",
    "maximos_trigger = []\n",
    "maximos_desint = []\n",
    "\n",
    "tauA = []\n",
    "tauB = []\n",
    "tauC = []\n",
    "tauD = []\n",
    "            \n",
    "detecciones = []\n",
    "            \n",
    "for q in range(len(indices_mu)): #número de bloques de datos en los que se ha detectado el producto de la desintegración\n",
    "    #maximos_trigger.append(min(V_min_A_trigger[q], V_min_B_trigger[q], V_min_B_trigger[q]))\n",
    "    #maximos_desint.append(min(V_min_A_desint[q], V_min_B_desint[q], V_min_C_desint[q], V_min_D_desint[q]))\n",
    "    \n",
    "    tauA.append(abs(t_min_A_desint[q] - t_min_A_trigger[q]))\n",
    "    tauB.append(abs(t_min_B_desint[q] - t_min_B_trigger[q]))\n",
    "    tauC.append(abs(t_min_C_desint[q] - t_min_C_trigger[q]))\n",
    "    tauD.append(abs(t_min_D_desint[q] - t_min_D_trigger[q]))"
   ]
  },
  {
   "cell_type": "markdown",
   "metadata": {},
   "source": [
    "#### Analizamos los tiempos de vida media calculados\n",
    "\n",
    "En primer lugar, limpiamos los datos quitando tanto los valores nulos como los superiores a una cota que establecemos visualizando el histograma completo. A continuación, presentamos un histograma con los resultados."
   ]
  },
  {
   "cell_type": "code",
   "execution_count": 9,
   "metadata": {},
   "outputs": [],
   "source": [
    "numero_ceros_A = tauA.count(0)\n",
    "for i in range(numero_ceros_A):\n",
    "    tauA.remove(0.0)\n",
    "for i in tauA:\n",
    "    if i > 9500:\n",
    "        tauA.remove(i)\n",
    "\n",
    "numero_ceros_B = tauB.count(0)\n",
    "for i in range(numero_ceros_B):\n",
    "    tauB.remove(0.0)\n",
    "for i in tauB:\n",
    "    if i > 9500:\n",
    "        tauB.remove(i)\n",
    "    \n",
    "numero_ceros_C = tauC.count(0)\n",
    "for i in range(numero_ceros_C):\n",
    "    tauC.remove(0.0)\n",
    "for i in tauC:\n",
    "    if i > 9500:\n",
    "        tauC.remove(i)\n",
    "\n",
    "numero_ceros_D = tauD.count(0)\n",
    "for i in range(numero_ceros_D):\n",
    "    tauD.remove(0.0)\n",
    "for i in tauD:\n",
    "    if i > 9500:\n",
    "        tauD.remove(i)"
   ]
  },
  {
   "cell_type": "code",
   "execution_count": 139,
   "metadata": {},
   "outputs": [
    {
     "data": {
      "text/plain": [
       "273"
      ]
     },
     "execution_count": 139,
     "metadata": {},
     "output_type": "execute_result"
    }
   ],
   "source": [
    "len(tauD)"
   ]
  },
  {
   "cell_type": "markdown",
   "metadata": {},
   "source": [
    "#### suma a todos los detectores"
   ]
  },
  {
   "cell_type": "code",
   "execution_count": 45,
   "metadata": {},
   "outputs": [],
   "source": [
    "tau = []\n",
    "for i in range(len(tauA)):\n",
    "    tau.append(tauA[i])\n",
    "for i in range(len(tauB)):\n",
    "    tau.append(tauB[i])\n",
    "for i in range(len(tauC)):\n",
    "    tau.append(tauC[i])\n",
    "for i in range(len(tauD)):\n",
    "    tau.append(tauD[i])"
   ]
  },
  {
   "cell_type": "code",
   "execution_count": 133,
   "metadata": {
    "scrolled": true
   },
   "outputs": [
    {
     "data": {
      "image/png": "[encoded data removed]",
      "text/plain": [
       "<Figure size 432x288 with 1 Axes>"
      ]
     },
     "metadata": {
      "needs_background": "light"
     },
     "output_type": "display_data"
    },
    {
     "name": "stdout",
     "output_type": "stream",
     "text": [
      "chi2 =  1.4894694107023854\n",
      "p =  0.9999999999999075\n",
      "grados libertad =  28\n",
      "-----------------------\n",
      "tau =  1970.0464461656343\n",
      "u(tau) =  158.6820619694357\n"
     ]
    }
   ],
   "source": [
    "n_bins = 30\n",
    "frec, xbins, patches = plt.hist(tauD, histtype='bar', color='#53868B', edgecolor='black', bins=n_bins) #density='norm' normaliza la distribución\n",
    "u = np.sqrt(frec)\n",
    "\n",
    "#return de plt.hist: n -> the values of the histogram bins ; bins -> the edges of the bins\n",
    "\n",
    "#labels, counts = np.unique(tau, return_counts=True)\n",
    "\n",
    "#para centrar las barras\n",
    "\"\"\"ticks = [(patch._x0 + patch._x1)/2 for patch in patches]\n",
    "ticklabels = [i for i in range(n_bins)]\n",
    "plt.xticks(ticks, ticklabels)\"\"\"\n",
    "\n",
    "modulo = 0\n",
    "for i in range(1,len(xbins[:-1])):\n",
    "    modulo = modulo + (xbins[i]-xbins[i-1])*frec[i]\n",
    "\n",
    "def exponencial(t, T, N0):\n",
    "    return N0*np.exp(-t/T)\n",
    "\n",
    "Ttest = sum(xbins[:-1]*frec)/sum(frec)\n",
    "N0test = 20\n",
    "ptest = [Ttest, N0test]\n",
    "\n",
    "sol , cov = so.curve_fit(exponencial, xbins[:-1], frec, p0=ptest)\n",
    "T = sol[0]\n",
    "N0 = sol[1]\n",
    "uT = np.sqrt(cov[0][0])\n",
    "\n",
    "y = exponencial(xbins[:-1], T, N0)\n",
    "\n",
    "plt.plot(xbins[:-1], y, c='red', label='$N_{0} e^{-t/T}$ ')\n",
    "\n",
    "plt.legend(loc='best')\n",
    "plt.xlabel('Tempo de desintegración (ns)')\n",
    "plt.ylabel('Frecuencia')\n",
    "plt.title('')\n",
    "#plt.errorbar(ticks, frec, xerr=None, yerr=u, fmt='.', color='k', ecolor='k', elinewidth=1, capsize=3)\n",
    "#plt.savefig('T.pdf')\n",
    "\n",
    "plt.show()\n",
    "\n",
    "#TEST DE CHI 2\n",
    "\n",
    "n_parametros = 2\n",
    "n_grados_libertad = len(xbins[:-1]) - n_parametros\n",
    "\n",
    "def chi_squared(x, y_experimental, uy_experimental, fun, coef):\n",
    "    y_fit = fun(x, *coef)\n",
    "    suma_desv = 0\n",
    "    residuals = np.zeros(len(y_experimental))\n",
    "    for i in range(len(x)-1):\n",
    "        residuals[i] = y_experimental[i]-y_fit[i]\n",
    "        suma_desv += residuals[i]**2/(uy_experimental[i])**2\n",
    "    chi2_red = suma_desv/(len(x)-len(coef))\n",
    "    return residuals, suma_desv, chi2_red\n",
    "chi2 = chi_squared(xbins[:-1], frec, u, exponencial, sol)[2]\n",
    "\n",
    "def p_value(chi, df):\n",
    "    return 1 - stats.chi2.cdf(chi, df)\n",
    "p = p_value(chi2, n_grados_libertad)\n",
    "\n",
    "print('chi2 = ', chi2)\n",
    "print('p = ', p)\n",
    "print('grados libertad = ', n_grados_libertad)\n",
    "print('-----------------------')\n",
    "print('tau = ', T)\n",
    "print('u(tau) = ', uT)"
   ]
  },
  {
   "cell_type": "markdown",
   "metadata": {},
   "source": [
    "Explicación sobre p y el intervalo de confianza:\n",
    "\n",
    "Para determinar si las variables son independientes, compare el valor p con el nivel de significancia. Por lo general, un nivel de significancia (denotado como α o alfa) de 0.05 funciona adecuadamente. Un nivel de significancia de 0.05 indica un riesgo de 5% de concluir que existe una asociación entre las variables cuando no hay una asociación real.\n",
    "\n",
    "Valor p ≤ α: Las variables tienen una asociación estadísticamente significativa (Rechazar H0)\n",
    "Si el valor p es menor que o igual al nivel de significancia, usted rechaza la hipótesis nula y concluye que hay una asociación estadísticamente significativa entre las variables.\n",
    "\n",
    "Valor p > α: No se puede concluir que las variables están asociadas (No se puede rechazar H0)\n",
    "Si el valor p es mayor que el nivel de significancia, usted no puede rechazar la hipótesis nula, porque no hay suficiente evidencia para concluir que las variables están asociadas."
   ]
  },
  {
   "cell_type": "code",
   "execution_count": 144,
   "metadata": {},
   "outputs": [],
   "source": [
    "T =  np.array([1397,1604,1193,1970])\n",
    "uT = np.array([438,466,887,237])"
   ]
  },
  {
   "cell_type": "code",
   "execution_count": 145,
   "metadata": {},
   "outputs": [
    {
     "name": "stdout",
     "output_type": "stream",
     "text": [
      "tau =  1422.3032544378698\n",
      "u(tau) =  24.846054615980304\n"
     ]
    }
   ],
   "source": [
    "T_medio = np.average(T, axis=None, weights=uT, returned=False)\n",
    "uT_medio = np.sqrt(sum(uT**2)/sum(uT))\n",
    "print('tau = ', T_medio)\n",
    "print('u(tau) = ', uT_medio)"
   ]
  },
  {
   "cell_type": "markdown",
   "metadata": {},
   "source": [
    "### usar solo el código de arriba para todos los sets de datos !!!!!!!!!!!!!!!!!!!!!!!!!!!!"
   ]
  },
  {
   "cell_type": "markdown",
   "metadata": {},
   "source": [
    "#### Comparación amplitudes rexistradas por muones y electrones."
   ]
  },
  {
   "cell_type": "code",
   "execution_count": null,
   "metadata": {},
   "outputs": [],
   "source": []
  },
  {
   "cell_type": "code",
   "execution_count": null,
   "metadata": {},
   "outputs": [],
   "source": []
  },
  {
   "cell_type": "code",
   "execution_count": null,
   "metadata": {},
   "outputs": [],
   "source": []
  },
  {
   "cell_type": "code",
   "execution_count": 54,
   "metadata": {},
   "outputs": [
    {
     "data": {
      "image/png": "[encoded data removed]",
      "text/plain": [
       "<Figure size 432x288 with 1 Axes>"
      ]
     },
     "metadata": {
      "needs_background": "light"
     },
     "output_type": "display_data"
    },
    {
     "name": "stdout",
     "output_type": "stream",
     "text": [
      "p = 0.0\n",
      "tau =  1393.0812705943233\n",
      "u(tau)=  164.98812270722777\n",
      "N0 =  91.27734691295746\n",
      "X^2 =  3027253234.31963\n",
      "chi2 =  3.39971460863715\n"
     ]
    }
   ],
   "source": [
    "frecA, xbinsA, _ = plt.hist(tauA, histtype='bar', color='#00008B', edgecolor='black', bins=25) #density='norm' normaliza la distribución\n",
    "uA = np.sqrt(frecA)\n",
    "\n",
    "#return de plt.hist: n -> the values of the histogram bins ; bins -> the edges of the bins\n",
    "\n",
    "#labels_A, counts_A = np.unique(tauA, return_counts=True)\n",
    "\n",
    "def exponencial(t, T, N0):\n",
    "    return N0*np.exp(-t/T)\n",
    "\n",
    "Ttest = 1000\n",
    "N0test = 20\n",
    "ptest = [Ttest, N0test]\n",
    "\n",
    "solA , covA = so.curve_fit(exponencial, xbinsA[:-1], frecA, p0=ptest)\n",
    "TA = solA[0]\n",
    "u_TA = np.sqrt(covA[0][0])\n",
    "N0_A = solA[1]\n",
    "\n",
    "y_A = exponencial(xbinsA[:-1], TA, N0_A)\n",
    "\n",
    "plt.plot(xbinsA[:-1], y_A, c='red', label='exponencial A')\n",
    "\n",
    "plt.legend(loc='best')\n",
    "plt.xlabel('Vida media (ns)')\n",
    "plt.ylabel('Frecuencia')\n",
    "plt.title('')\n",
    "#plt.xlim(0,300)\n",
    "\n",
    "plt.show()\n",
    "\n",
    "#test de chi^2\n",
    "n_parametros = 2\n",
    "n_grados_libertad = len(xbinsA[:-1]) - n_parametros\n",
    "chisq_A, p_A = stats.chisquare(xbinsA[:-1], exponencial(xbinsA[:-1], TA, N0_A), ddof=1)\n",
    "\n",
    "#ddof: “Delta degrees of freedom” adjustment to the degrees of freedom for the p-value. The p-value is computed using \n",
    "#a chi-squared distribution with k - 1 - ddof degrees of freedom, where k is the number of observed frequencies.\n",
    "#The default value of ddof is 0.\n",
    "print('p =', p_A)\n",
    "print('tau = ', TA)\n",
    "print('u(tau)= ', u_TA)\n",
    "print('N0 = ', N0_A)\n",
    "print('X^2 = ', chisq_A)\n",
    "\n",
    "def chi_squared(x, y_experimental, uy_experimental, fun, coef):\n",
    "    y_fit = fun(x, *coef)\n",
    "    suma_desv = 0\n",
    "    residuals = np.zeros(len(y_experimental))\n",
    "    for i in range(len(x)-1):\n",
    "        residuals[i] = y_experimental[i]-y_fit[i]\n",
    "        suma_desv += residuals[i]**2/(uy_experimental[i])**2\n",
    "    chi2_red = suma_desv/(len(x)-len(coef))\n",
    "    return residuals, suma_desv, chi2_red\n",
    "\n",
    "chi2 = chi_squared(xbinsA[:-1], frecA, uA, exponencial, solA)[2]\n",
    "print('chi2 = ', chi2)\n",
    "#p_value = stats.chi2.cdf(chi2, )\"\"\""
   ]
  },
  {
   "cell_type": "code",
   "execution_count": 29,
   "metadata": {},
   "outputs": [
    {
     "data": {
      "text/plain": [
       "array([[27221.08063446,  -685.97754119],\n",
       "       [ -685.97754119,    45.71622824]])"
      ]
     },
     "execution_count": 29,
     "metadata": {},
     "output_type": "execute_result"
    }
   ],
   "source": [
    "covA"
   ]
  },
  {
   "cell_type": "code",
   "execution_count": 18,
   "metadata": {},
   "outputs": [
    {
     "data": {
      "image/png": "[encoded data removed]",
      "text/plain": [
       "<Figure size 432x288 with 1 Axes>"
      ]
     },
     "metadata": {
      "needs_background": "light"
     },
     "output_type": "display_data"
    },
    {
     "name": "stdout",
     "output_type": "stream",
     "text": [
      "X^2 = 1675326327.893416\n",
      "X^2 red =  72840275.1258007\n",
      "p = 0.0\n",
      "tau =  1519.5598693498064\n"
     ]
    }
   ],
   "source": [
    "frecB, xbinsB, _ = plt.hist(tauB, histtype='bar', color='#458B00', edgecolor='black', bins=25) #density='norm' normaliza la distribución\n",
    "\n",
    "#return de plt.hist: n -> the values of the histogram bins ; bins -> the edges of the bins\n",
    "\n",
    "#labels_B, counts_B = np.unique(tauB, return_counts=True)\n",
    "\n",
    "moduloB = 0\n",
    "for i in range(1,len(xbinsB[:-1])):\n",
    "    moduloB = moduloB + (xbinsB[i]-xbinsB[i-1])*frecB[i]\n",
    "\n",
    "def exponencial(t, T, N0):\n",
    "    return N0*np.exp(-t/T)\n",
    "\n",
    "Ttest = 1000\n",
    "N0test = 20\n",
    "ptest = [Ttest, N0test]\n",
    "\n",
    "solB , covB = so.curve_fit(exponencial, xbinsB[:-1], frecB, p0=ptest)\n",
    "TB = solB[0]\n",
    "N0_B = solB[1]\n",
    "\n",
    "y_B = exponencial(xbinsB[:-1], TB, N0_B)\n",
    "\n",
    "plt.plot(xbinsB[:-1], y_B, c='red', label='exponencial B')\n",
    "\n",
    "plt.legend(loc='best')\n",
    "plt.xlabel('Vida media (ns)')\n",
    "plt.ylabel('Frecuencia')\n",
    "plt.title('')\n",
    "\n",
    "plt.show()\n",
    "\n",
    "#test de chi^2\n",
    "n_parametros = 2\n",
    "n_grados_libertad = len(xbinsB[:-1]) - n_parametros\n",
    "chisq_B, p_B = stats.chisquare(xbinsB[:-1], exponencial(xbinsB[:-1], TB, N0_B), ddof=1) #usamos los valores del histograma ?????????\n",
    "print('X^2 =', chisq_B)\n",
    "print('X^2 red = ', chisq_B/n_grados_libertad)\n",
    "print('p =', p_B)\n",
    "print('tau = ', TB)"
   ]
  },
  {
   "cell_type": "code",
   "execution_count": 200,
   "metadata": {},
   "outputs": [
    {
     "data": {
      "text/plain": [
       "array([1630.48685656,   24.46248026])"
      ]
     },
     "execution_count": 200,
     "metadata": {},
     "output_type": "execute_result"
    }
   ],
   "source": [
    "solB"
   ]
  },
  {
   "cell_type": "code",
   "execution_count": 33,
   "metadata": {},
   "outputs": [
    {
     "data": {
      "image/png": "[encoded data removed]",
      "text/plain": [
       "<Figure size 432x288 with 1 Axes>"
      ]
     },
     "metadata": {
      "needs_background": "light"
     },
     "output_type": "display_data"
    },
    {
     "name": "stdout",
     "output_type": "stream",
     "text": [
      "X^2 = 167721407385.2454\n",
      "p = nan\n"
     ]
    }
   ],
   "source": [
    "frecC, xbinsC, _ = plt.hist(tauC, histtype='bar', color='#CD950C', edgecolor='black', bins=100) #density='norm' normaliza la distribución\n",
    "\n",
    "#return de plt.hist: n -> the values of the histogram bins ; bins -> the edges of the bins\n",
    "\n",
    "moduloC = 0\n",
    "for i in range(len(xbinsC[:-1])):\n",
    "    moduloC = moduloC + xbinsC[i]*frecC[i]\n",
    "    \n",
    "TC = []\n",
    "N0_C = []\n",
    "\n",
    "def exponencial(t, TC, N0_C):\n",
    "    return N0_C*np.exp(-t/TC)\n",
    "\n",
    "Ttest = 1000\n",
    "N0test = 20\n",
    "ptest = [Ttest, N0test]\n",
    "\n",
    "solC , covC = so.curve_fit(exponencial, xbinsC[:-1], frecC, p0=ptest)\n",
    "TC = solC[0]\n",
    "N0_C = solC[1]\n",
    "\n",
    "y_C = exponencial(xbinsC[:-1], TC, N0_C)\n",
    "\n",
    "plt.plot(xbinsC[:-1], y_C, c='red', label='exponencial C')\n",
    "\n",
    "plt.legend(loc='best')\n",
    "plt.xlabel('Vida media (ns)')\n",
    "plt.ylabel('Frecuencia')\n",
    "plt.title('')\n",
    "\n",
    "plt.show()\n",
    "\n",
    "#test de chi^2\n",
    "n_parametros = 2\n",
    "n_grados_libertad = int(moduloC) - n_parametros\n",
    "chisq_C, p_C = stats.chisquare(xbinsC[:-1], exponencial(xbinsC[:-1], TC, N0_C), ddof = n_grados_libertad) #usamos los valores del histograma ?????????\n",
    "print('X^2 =', chisq_C)\n",
    "print('p =', p_C)"
   ]
  },
  {
   "cell_type": "code",
   "execution_count": 201,
   "metadata": {},
   "outputs": [
    {
     "data": {
      "text/plain": [
       "array([1720.98217919,   40.76961299])"
      ]
     },
     "execution_count": 201,
     "metadata": {},
     "output_type": "execute_result"
    }
   ],
   "source": [
    "solC"
   ]
  },
  {
   "cell_type": "code",
   "execution_count": 180,
   "metadata": {},
   "outputs": [
    {
     "data": {
      "image/png": "[encoded data removed]",
      "text/plain": [
       "<Figure size 432x288 with 1 Axes>"
      ]
     },
     "metadata": {
      "needs_background": "light"
     },
     "output_type": "display_data"
    },
    {
     "name": "stdout",
     "output_type": "stream",
     "text": [
      "X^2 = 10664508661.996029\n",
      "p = nan\n"
     ]
    }
   ],
   "source": [
    "frecD, xbinsD, _ = plt.hist(tauD, histtype='bar', color='#9A32CD', edgecolor='black', bins=100) #density='norm' normaliza la distribución\n",
    "\n",
    "#return de plt.hist: n -> the values of the histogram bins ; bins -> the edges of the bins\n",
    "\n",
    "moduloD = 0\n",
    "for i in range(len(xbinsD[:-1])):\n",
    "    moduloD = moduloD + xbinsD[i]*frecD[i]\n",
    "    \n",
    "TD = []\n",
    "N0_D = []\n",
    "\n",
    "def exponencial(t, TD, N0_D):\n",
    "    return N0_D*np.exp(-t/TD)\n",
    "\n",
    "Ttest = 1000\n",
    "N0test = 20\n",
    "ptest = [Ttest, N0test]\n",
    "\n",
    "solD , covD = so.curve_fit(exponencial, xbinsD[:-1], frecD, p0=ptest)\n",
    "TD = solD[0]\n",
    "N0_D = solD[1]\n",
    "\n",
    "y_D = exponencial(xbinsD[:-1], TD, N0_D)\n",
    "\n",
    "plt.plot(xbinsD[:-1], y_D, c='red', label='exponencial D')\n",
    "\n",
    "plt.legend(loc='best')\n",
    "plt.xlabel('Vida media (ns)')\n",
    "plt.ylabel('Frecuencia')\n",
    "plt.title('')\n",
    "\n",
    "plt.show()\n",
    "\n",
    "#test de chi^2\n",
    "n_parametros = 2\n",
    "n_grados_libertad = int(moduloD) - n_parametros\n",
    "chisq_D, p_D = stats.chisquare(xbinsD[:-1], exponencial(xbinsD[:-1], TD, N0_D), ddof = n_grados_libertad) #usamos los valores del histograma ?????????\n",
    "print('X^2 =', chisq_D)\n",
    "print('p =', p_D)\n"
   ]
  },
  {
   "cell_type": "code",
   "execution_count": 202,
   "metadata": {},
   "outputs": [
    {
     "data": {
      "text/plain": [
       "array([1982.88954988,   12.82183003])"
      ]
     },
     "execution_count": 202,
     "metadata": {},
     "output_type": "execute_result"
    }
   ],
   "source": [
    "solD"
   ]
  },
  {
   "cell_type": "markdown",
   "metadata": {},
   "source": [
    "#### Amplitudes\n",
    "\n",
    "Comparemos la distribución de amplitudes en la detección de muones y electrones."
   ]
  },
  {
   "cell_type": "code",
   "execution_count": 147,
   "metadata": {},
   "outputs": [],
   "source": [
    "Amplitud_A_desint = []\n",
    "Amplitud_A_trigger = []\n",
    "for i in range(len(V_min_A_desint)):\n",
    "    if V_min_A_desint[i] != 0 and abs(V_min_A_desint[i]) < 20000 and abs(V_min_A_trigger[i]) < 10000:\n",
    "        Amplitud_A_desint.append(V_min_A_desint[i])\n",
    "        Amplitud_A_trigger.append(V_min_A_trigger[i])"
   ]
  },
  {
   "cell_type": "code",
   "execution_count": 148,
   "metadata": {},
   "outputs": [
    {
     "data": {
      "text/plain": [
       "335"
      ]
     },
     "execution_count": 148,
     "metadata": {},
     "output_type": "execute_result"
    }
   ],
   "source": [
    "len(Amplitud_A_trigger)"
   ]
  },
  {
   "cell_type": "code",
   "execution_count": 149,
   "metadata": {},
   "outputs": [
    {
     "data": {
      "image/png": "[encoded data removed]",
      "text/plain": [
       "<Figure size 432x288 with 1 Axes>"
      ]
     },
     "metadata": {
      "needs_background": "light"
     },
     "output_type": "display_data"
    }
   ],
   "source": [
    "plt.plot(Amplitud_A_trigger, Amplitud_A_desint, 'k.')\n",
    "plt.xlabel('Amplitudes detección $\\mu$')\n",
    "plt.ylabel('Amplitudes detección $e^{-}$')\n",
    "plt.ylim(-5000, 0)\n",
    "plt.show()"
   ]
  },
  {
   "cell_type": "code",
   "execution_count": null,
   "metadata": {},
   "outputs": [],
   "source": []
  },
  {
   "cell_type": "code",
   "execution_count": null,
   "metadata": {},
   "outputs": [],
   "source": []
  },
  {
   "cell_type": "code",
   "execution_count": null,
   "metadata": {},
   "outputs": [],
   "source": []
  },
  {
   "cell_type": "code",
   "execution_count": null,
   "metadata": {},
   "outputs": [],
   "source": []
  },
  {
   "cell_type": "code",
   "execution_count": 281,
   "metadata": {},
   "outputs": [],
   "source": [
    "######################################### USAR EN ESTUDIO DE AMPLITUDES ####################################################\n",
    "\"\"\"\n",
    "t_min_A = []\n",
    "t_min_B = []\n",
    "t_min_C = []\n",
    "t_min_D = []\n",
    "\n",
    "V_min_A = []\n",
    "V_min_B = []\n",
    "V_min_C = []\n",
    "V_min_D = []\n",
    "\n",
    "indices = []\n",
    "\n",
    "def parabola(x, a, b, c):\n",
    "    return a*x**2 + b*x + c\n",
    "\n",
    "for i in range(len(datos)):\n",
    "    \n",
    "    t = []\n",
    "    \n",
    "    detA = []\n",
    "    detB = []\n",
    "    detC = []\n",
    "    detD = []\n",
    "    \n",
    "    for j in range(len(datos[i])):\n",
    "        t.append(datos[i][j][0])\n",
    "        detA.append(datos[i][j][1])\n",
    "        detB.append(datos[i][j][2])\n",
    "        detC.append(datos[i][j][3])\n",
    "        detD.append(datos[i][j][4])\n",
    "    \n",
    "    for k in range(1,len(t)):\n",
    "        if t[k]-t[k-1] != 4:\n",
    "            \n",
    "            indices.append(i)\n",
    "            \n",
    "            indice_min_A = detA.index(min(detA))\n",
    "            indice_min_B = detB.index(min(detB))\n",
    "            indice_min_C = detC.index(min(detC))\n",
    "            indice_min_D = detD.index(min(detD))\n",
    "\n",
    "            lA = indice_min_A\n",
    "            tA = [t[lA-1], t[lA], t[lA+1]]\n",
    "            lB = indice_min_B\n",
    "            tB = [t[lB-1], t[lB], t[lB+1]]\n",
    "            lC = indice_min_C\n",
    "            tC = [t[lC-1], t[lC], t[lC+1]]\n",
    "            lD = indice_min_D\n",
    "            tD = [t[lD-1], t[lD], t[lD+1]]\n",
    "\n",
    "            ajusteA = [detA[lA-1], detA[lA], detA[lA+1]]\n",
    "            ajusteB = [detB[lB-1], detB[lB], detB[lB+1]]\n",
    "            ajusteC = [detC[lC-1], detC[lC], detC[lC+1]]\n",
    "            ajusteD = [detD[lD-1], detD[lD], detD[lD+1]]\n",
    "\n",
    "            solA, covA = so.curve_fit(parabola, tA, ajusteA)\n",
    "            aA = solA[0] ; bA = solA[1] ; cA = solA[2]\n",
    "            solB, covB = so.curve_fit(parabola, tB, ajusteB)\n",
    "            aB = solB[0] ; bB = solB[1] ; cB = solB[2]\n",
    "            solC, covC = so.curve_fit(parabola, tC, ajusteC)\n",
    "            aC = solC[0] ; bC = solC[1] ; cC = solC[2]\n",
    "\n",
    "            if ajusteD[1] > 0:\n",
    "                solD, covD = so.curve_fit(parabola, tD, ajusteD)\n",
    "                aD = solD[0] ; bD = solD[1] ; cD = solD[2]\n",
    "            else:\n",
    "                aD = 0 ; bD = 0 ; cD = 0\n",
    "\n",
    "            t_aux = np.linspace(30,100,1000)\n",
    "\n",
    "            VA = aA*t_aux**2 + bA*t_aux + cA\n",
    "            VB = aB*t_aux**2 + bB*t_aux + cB\n",
    "            VC = aC*t_aux**2 + bC*t_aux + cC\n",
    "            VD = aD*t_aux**2 + bD*t_aux + cD\n",
    "\n",
    "            V_min_A.append(min(VA))\n",
    "            V_min_B.append(min(VB))\n",
    "            V_min_C.append(min(VC))\n",
    "            V_min_D.append(min(VD))\n",
    "\n",
    "            t_min_A.append(t_aux[list(VA).index(min(VA))])\n",
    "            t_min_B.append(t_aux[list(VB).index(min(VB))])\n",
    "            t_min_C.append(t_aux[list(VC).index(min(VC))])\n",
    "            t_min_D.append(t_aux[list(VD).index(min(VD))]) \n",
    "\"\"\""
   ]
  },
  {
   "cell_type": "code",
   "execution_count": null,
   "metadata": {},
   "outputs": [],
   "source": []
  }
 ],
 "metadata": {
  "kernelspec": {
   "display_name": "Python 3",
   "language": "python",
   "name": "python3"
  },
  "language_info": {
   "codemirror_mode": {
    "name": "ipython",
    "version": 3
   },
   "file_extension": ".py",
   "mimetype": "text/x-python",
   "name": "python",
   "nbconvert_exporter": "python",
   "pygments_lexer": "ipython3",
   "version": "3.7.4"
  }
 },
 "nbformat": 4,
 "nbformat_minor": 2
}
