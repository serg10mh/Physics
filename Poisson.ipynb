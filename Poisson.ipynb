{
 "cells": [
  {
   "cell_type": "markdown",
   "metadata": {},
   "source": [
    "# Caracterización de la radiación cósmica"
   ]
  },
  {
   "cell_type": "markdown",
   "metadata": {},
   "source": [
    "En este Notebook trataremos de demostrar que la tasa de radiación cósmica sigue una distribución de Poisson, realizando un ajuste a los datos tomados en el laboratorio y un test de $\\chi^{2}$"
   ]
  },
  {
   "cell_type": "markdown",
   "metadata": {},
   "source": [
    "Cargamos los módulos necesarios:"
   ]
  },
  {
   "cell_type": "code",
   "execution_count": 1,
   "metadata": {},
   "outputs": [],
   "source": [
    "import numpy as np\n",
    "import matplotlib.pylab as plt\n",
    "import scipy.optimize as so\n",
    "import scipy.special as se #para el factorial\n",
    "import pandas as pd\n",
    "from decimal import * #para las cifras significativas\n",
    "from scipy import stats #para el test de chi\n",
    "from tabulate import tabulate"
   ]
  },
  {
   "cell_type": "markdown",
   "metadata": {},
   "source": [
    "Leemos los datos desde un archivo .txt"
   ]
  },
  {
   "cell_type": "code",
   "execution_count": 2,
   "metadata": {},
   "outputs": [],
   "source": [
    "def leerArchivo(archivo):\n",
    "    datos = open(archivo, 'r')\n",
    "    tiempos = []\n",
    "    numeros = []\n",
    "    contador = 0\n",
    "    for linea in datos: #recorremos cada línea del archivo\n",
    "        if len(linea) == 1: #len cuenta los bytes de cada linea: si tiene 1 byte es porque cuenta el salto de linea como \\n\n",
    "            continue\n",
    "        else: #en otro caso, será algún dato de interés\n",
    "            numero_elementos = linea.split() #guardamos los elementos de la línea\n",
    "            if len(numero_elementos) == 1: #si hay un solo elemento, será el tiempo unix\n",
    "                tiempos.append(numero_elementos)\n",
    "                contador += 1\n",
    "            else: #en otro caso, será alguno de los otros datos\n",
    "                numeros.append(numero_elementos)\n",
    "    #el resultado de este bucle es una lista de listas, lo cual no nos interesa porque queremos trabajar con elementos que sean números\n",
    "    tamaño = len(tiempos)\n",
    "    tiempos_unix = [] #almacenamos aquí el tiempo unix\n",
    "    for i in range(tamaño):\n",
    "        tiempos_unix.append(int(tiempos[i][0]))\n",
    "    return tiempos_unix"
   ]
  },
  {
   "cell_type": "markdown",
   "metadata": {},
   "source": [
    "Una vez obtenemos el array con los tiempos a los que se detectaron las cuentas, debemos dividir el tiempo de medida en intervalos fijos (1s, 5s, 10s, ...) y ver cuántas cuentas caen en cada uno."
   ]
  },
  {
   "cell_type": "code",
   "execution_count": 3,
   "metadata": {},
   "outputs": [
    {
     "name": "stdout",
     "output_type": "stream",
     "text": [
      "número de disparos = 1000\n"
     ]
    }
   ],
   "source": [
    "tiempos_micros = leerArchivo('coincidenciasABCD.txt')\n",
    "t0 = tiempos_micros[0] #establecemos el primer elemento como 0\n",
    "for i in range(len(tiempos_micros)):\n",
    "    tiempos_micros[i] = tiempos_micros[i] - t0\n",
    "    i += 1\n",
    "tiempos = np.multiply(tiempos_micros, 10**(-6)) #pasamos a segundos\n",
    "print('número de disparos =', len(tiempos)) #para verificar que configuramos 1000 disparos"
   ]
  },
  {
   "cell_type": "markdown",
   "metadata": {},
   "source": [
    "## 1ª parte: número de cuentas a tiempo fijo"
   ]
  },
  {
   "cell_type": "markdown",
   "metadata": {},
   "source": [
    "En esta parte estudiemos cómo se distribuyen los disparos en intervalos temporales fijos."
   ]
  },
  {
   "cell_type": "code",
   "execution_count": 4,
   "metadata": {},
   "outputs": [],
   "source": [
    "def contaje(vector):\n",
    "    deltat1 = 1 #(s) establecemos nuestro intervalo temporal\n",
    "    deltat2ymedio = 2.5\n",
    "    deltat5 = 5\n",
    "    deltat10 = 10\n",
    "    deltat05 = 0.5\n",
    "    deltat15 = 12\n",
    "    ##############################################\n",
    "    divisiones1 = (vector[-1] - vector[0])/deltat1 #no es necesario restar vector[0] porque ya le hemos restado a todos los elementos el t0\n",
    "    cuentas1 = np.zeros(int(divisiones1)+1) #donde almacenamos las cuentas por intervalo\n",
    "    k1 = 0\n",
    "    for j in range(len(vector)): #recorremos todo el vector de tiempos\n",
    "        while vector[j] >= (k1+1)*deltat1: # mientras que la componente del vector sea mayor que el intervalo dt, sigue contando intervalos. Cuando no se cumpla, rompe el while y vuelve al for\n",
    "            k1 += 1       #nuevo intervalo\n",
    "        cuentas1[k1] += 1 #almacena las cuentas en la componente del vector de zeros que le corresponda\n",
    "    ##############################################\n",
    "    divisiones2ymedio = (vector[-1] - vector[0])/deltat2ymedio\n",
    "    cuentas2ymedio = np.zeros(int(divisiones2ymedio)+1)\n",
    "    k2ymedio = 0\n",
    "    for l in range(len(vector)):\n",
    "        while vector[l] >= (k2ymedio+1)*deltat2ymedio:\n",
    "            k2ymedio += 1\n",
    "        cuentas2ymedio[k2ymedio] += 1\n",
    "    #############################################\n",
    "    divisiones5 = (vector[-1] - vector[0])/deltat5\n",
    "    cuentas5 = np.zeros(int(divisiones5)+1)\n",
    "    k5 = 0\n",
    "    for l in range(len(vector)):\n",
    "        while vector[l] >= (k5+1)*deltat5:\n",
    "            k5 += 1\n",
    "        cuentas5[k5] += 1\n",
    "    #############################################    \n",
    "    divisiones10 = (vector[-1] - vector[0])/deltat10\n",
    "    cuentas10 = np.zeros(int(divisiones10)+1)\n",
    "    k10 = 0\n",
    "    for l in range(len(vector)):\n",
    "        while vector[l] >= (k10+1)*deltat10:\n",
    "            k10 += 1\n",
    "        cuentas10[k10] += 1\n",
    "    #############################################\n",
    "    divisiones05 = (vector[-1] - vector[0])/deltat05\n",
    "    cuentas05 = np.zeros(int(divisiones05)+1)\n",
    "    k05 = 0\n",
    "    for l in range(len(vector)):\n",
    "        while vector[l] >= (k05+1)*deltat05:\n",
    "            k05 += 1\n",
    "        cuentas05[k05] += 1\n",
    "    #############################################\n",
    "    divisiones15 = (vector[-1] - vector[0])/deltat15\n",
    "    cuentas15 = np.zeros(int(divisiones15)+1)\n",
    "    k15 = 0\n",
    "    for l in range(len(vector)):\n",
    "        while vector[l] >= (k15+1)*deltat15:\n",
    "            k15 += 1\n",
    "        cuentas15[k15] += 1\n",
    "    #############################################\n",
    "    return cuentas1, cuentas2ymedio, cuentas5, cuentas10, cuentas05, cuentas15"
   ]
  },
  {
   "cell_type": "code",
   "execution_count": 5,
   "metadata": {},
   "outputs": [],
   "source": [
    "cuentas_1s = contaje(tiempos)[0]\n",
    "cuentas_2symedio = contaje(tiempos)[1]\n",
    "cuentas_5s = contaje(tiempos)[2]\n",
    "cuentas_10s = contaje(tiempos)[3]\n",
    "cuentas_05s = contaje(tiempos)[4]\n",
    "cuentas_15s = contaje(tiempos)[5]"
   ]
  },
  {
   "cell_type": "markdown",
   "metadata": {},
   "source": [
    "Representamos la frecuencia de cuentas en un histograma."
   ]
  },
  {
   "cell_type": "code",
   "execution_count": 6,
   "metadata": {},
   "outputs": [],
   "source": [
    "cuentas = cuentas_1s"
   ]
  },
  {
   "cell_type": "code",
   "execution_count": 9,
   "metadata": {},
   "outputs": [
    {
     "data": {
      "image/png": "[encoded data removed]",
      "text/plain": [
       "<Figure size 432x288 with 1 Axes>"
      ]
     },
     "metadata": {
      "needs_background": "light"
     },
     "output_type": "display_data"
    },
    {
     "name": "stdout",
     "output_type": "stream",
     "text": [
      "grados libertad =  4\n",
      "lambda (media) =  1.272264631043257\n",
      "u(l)=  2.2558941739747076\n",
      "╒═══════════╤═══════════╤══════════════╕\n",
      "│           │   Poisson │        Gauss │\n",
      "╞═══════════╪═══════════╪══════════════╡\n",
      "│ chi2      │  2.27053  │ 63.9777      │\n",
      "├───────────┼───────────┼──────────────┤\n",
      "│ percentil │  0.686139 │  4.22463e-13 │\n",
      "╘═══════════╧═══════════╧══════════════╛\n"
     ]
    }
   ],
   "source": [
    "#representamos el histograma del número de cuentas\n",
    "#n_bins = int(max(cuentas)+1)\n",
    "n_bins = 5\n",
    "n, xbins, patches = plt.hist(cuentas, bins=n_bins, color='#3D59AB', edgecolor='black')\n",
    "\n",
    "#para centrar las barras\n",
    "ticks = [(patch._x0 + patch._x1)/2 for patch in patches]\n",
    "ticklabels = [i for i in range(n_bins)]\n",
    "plt.xticks(ticks, ticklabels)\n",
    "\n",
    "#configuramos 2 nuevas variables: los valores repetidos de números de cuentas (labels) y su número de repeticiones (counts)\n",
    "labels, counts = np.unique(cuentas, return_counts=True)\n",
    "\n",
    "#incertezas nas contas\n",
    "uy = np.sqrt(n)\n",
    "\n",
    "############################################################################################################################\n",
    "\n",
    "#Poisson\n",
    "\n",
    "#la media de la distribución de Poisson es lambda\n",
    "l = sum(labels*counts)/sum(counts)\n",
    "#la desviación de la media para esta distribución es sqrt(lambda)\n",
    "desv_l = np.sqrt(l)\n",
    "deltat = 0.5\n",
    "u_l = desv_l/deltat\n",
    "#definimos los grados de libertad\n",
    "grad_lib = sum(labels) -1 -1\n",
    "    \n",
    "#definimos la función de distribución con nuestros parámetros\n",
    "def poisson(x, l):\n",
    "    return len(cuentas)*((l**x)/se.factorial(x))*np.exp(-l)\n",
    "\n",
    "y_p = poisson(xbins[:-1], l)\n",
    "\n",
    "#grados de libertad en el test de una distribución de probabilidad = k-r-1\n",
    "# k = número de clases ; r = 1 pq estamos ajustando a un parámetro ; -1 pq existe una ligadura sum(frec) = N\n",
    "n_grados_libertad = len(xbins[:-1]) - 1\n",
    "\n",
    "#test de chi^2\n",
    "\"\"\"chisq_p, p_p = stats.chisquare(counts, poisson(labels, l))\"\"\"\n",
    "#chi_red_p = chisq_p/n_grados_libertad\n",
    "chisq_p, p_p = stats.chisquare(n, poisson(xbins[:-1], l))\n",
    "\n",
    "############################################################################################################################\n",
    "\n",
    "#Gauss\n",
    "\n",
    "#gauss como límite de poisson sigma == raiz(media)\n",
    "def gauss(x, l):\n",
    "    return len(cuentas)*np.exp(-(x-l)**2/(2*l))/(np.sqrt(2*np.pi*l))\n",
    "\n",
    "y_g = gauss(xbins[:-1], l)\n",
    "\n",
    "#test de chi^2\n",
    "\"\"\"chisq_g, p_g = stats.chisquare(counts, gauss(labels, l))\n",
    "chi_red_g = chisq_g/n_grados_libertad\"\"\"\n",
    "chisq_g, p_g = stats.chisquare(n, gauss(xbins[:-1], l))\n",
    "\n",
    "############################################################################################################################\n",
    "\n",
    "#Representación gráfica\n",
    "\n",
    "plt.plot(ticks, y_p, 'gx', label='Poisson') #como eje X metemos ticks porque hemos tenido que ajustarlos antes al histograma, de lo contrario no quedan centrados\n",
    "plt.plot(ticks, y_g, 'rx', label='Gauss')\n",
    "plt.xlabel('')\n",
    "plt.ylabel('')\n",
    "plt.title('')\n",
    "plt.errorbar(ticks, n, xerr=None, yerr=uy, fmt=',', color='k', ecolor='k', elinewidth=1, capsize=3)\n",
    "plt.legend(loc='upper right', fancybox='True')\n",
    "#plt.savefig('cuentas_12s.pdf')\n",
    "plt.show()\n",
    "\n",
    "#Mostramos los resultados\n",
    "resultados = [['chi2', chisq_p , chisq_g],\n",
    "['percentil', p_p, p_g]]\n",
    "\n",
    "print('grados libertad = ', n_grados_libertad)\n",
    "print('lambda (media) = ', l)\n",
    "print('u(l)= ', u_l)\n",
    "\n",
    "print (tabulate(resultados, headers=[\"\", \"Poisson\", \"Gauss\"], tablefmt='fancy_grid'))"
   ]
  },
  {
   "cell_type": "code",
   "execution_count": 89,
   "metadata": {},
   "outputs": [
    {
     "data": {
      "text/plain": [
       "10"
      ]
     },
     "execution_count": 89,
     "metadata": {},
     "output_type": "execute_result"
    }
   ],
   "source": [
    "len(counts)"
   ]
  },
  {
   "cell_type": "code",
   "execution_count": 85,
   "metadata": {},
   "outputs": [
    {
     "data": {
      "text/plain": [
       "array([11., 49., 63., 68., 56., 33., 21.,  8.,  5.,  0.,  1.])"
      ]
     },
     "execution_count": 85,
     "metadata": {},
     "output_type": "execute_result"
    }
   ],
   "source": [
    "n"
   ]
  },
  {
   "cell_type": "code",
   "execution_count": null,
   "metadata": {},
   "outputs": [],
   "source": []
  },
  {
   "cell_type": "code",
   "execution_count": null,
   "metadata": {},
   "outputs": [],
   "source": []
  },
  {
   "cell_type": "markdown",
   "metadata": {},
   "source": [
    "## 2ª parte: tiempo entre disparos"
   ]
  },
  {
   "cell_type": "markdown",
   "metadata": {},
   "source": [
    "Trabajamos ahora en un análisis alternativo: estudiemos cómo se distribuyen los intervalos temporales entre disparos consecutivos."
   ]
  },
  {
   "cell_type": "code",
   "execution_count": 584,
   "metadata": {},
   "outputs": [],
   "source": [
    "def dif_tiempos(vector):\n",
    "    diferencia = np.zeros([len(vector)-1])\n",
    "    for i in range(len(vector)-1):\n",
    "        diferencia[i] = vector[i+1]-vector[i]\n",
    "        i += 1\n",
    "    return diferencia\n",
    "\n",
    "intervalos_temporales = dif_tiempos(tiempos)"
   ]
  },
  {
   "cell_type": "code",
   "execution_count": 587,
   "metadata": {},
   "outputs": [
    {
     "data": {
      "image/png": "[encoded data removed]",
      "text/plain": [
       "<Figure size 432x288 with 1 Axes>"
      ]
     },
     "metadata": {
      "needs_background": "light"
     },
     "output_type": "display_data"
    },
    {
     "name": "stdout",
     "output_type": "stream",
     "text": [
      "X^2 = 1.0615863436587423\n",
      "p = 1.0\n",
      "media =  0.7488042231731475\n",
      "k =  1.335462553566245\n",
      "graos de liberdade =  79\n"
     ]
    }
   ],
   "source": [
    "#n_bins = len(intervalos_temporales)+1\n",
    "n_bins = 80\n",
    "frec, xbins, patches = plt.hist(intervalos_temporales, histtype='bar', color='#3D59AB', edgecolor='black', bins=n_bins, density='True') #density='norm' normaliza la distribución\n",
    "\n",
    "#return de plt.hist: n -> the values of the histogram bins ; bins -> the edges of the bins\n",
    "\n",
    "labels_e, counts_e = np.unique(intervalos_temporales, return_counts=True)\n",
    "\n",
    "#para centrar las barras\n",
    "ticks = [(patch._x0 + patch._x1)/2 for patch in patches]\n",
    "ticklabels = [i for i in range(n_bins)]\n",
    "#plt.xticks(ticks, ticklabels)\n",
    "\n",
    "#tanto la media como la desviación típica de la distribución exponencial es 1/k \n",
    "media = sum(xbins[:-1]*frec)/sum(frec)\n",
    "k = 1/media\n",
    "\n",
    "#error y\n",
    "errory = np.sqrt(frec)\n",
    "\n",
    "def exponencial(x, k):\n",
    "    return k*np.exp(-k*x) # x > 0\n",
    "\n",
    "k0_test = 2.5\n",
    "ptest = [k0_test]\n",
    "sol, cov = so.curve_fit(exponencial, xbins[:-1], frec, p0=ptest)\n",
    "k_test = sol[0]\n",
    "y_test = exponencial(xbins[:-1], k_test)\n",
    "#plt.plot(ticks, y_test, 'b.')\n",
    "                                               \n",
    "y_e = exponencial(xbins[:-1], k)\n",
    "\n",
    "plt.plot(ticks, y_e, 'r', label='distribución exponencial')\n",
    "\n",
    "plt.legend(loc='best')\n",
    "plt.xlabel('Tempo entre contas consecutivas (s)')\n",
    "plt.title('')\n",
    "#plt.savefig('expABCD.pdf')\n",
    "\n",
    "plt.show()\n",
    "\n",
    "#test de chi^2\n",
    "n_parametros = 0\n",
    "n_grados_libertad = len(xbins[:-1]) - 1\n",
    "chisq_e, p_e = stats.chisquare(frec, exponencial(xbins[:-1], k))\n",
    "#chisq_e, p_e = stats.chisquare(labels_e, exponencial(counts_e, k), ddof = 1) #usamos los valores del histograma ?????????\n",
    "print('X^2 =', chisq_e)\n",
    "print('p =', p_e)\n",
    "print('media = ', media)\n",
    "print('k = ', k)\n",
    "print('graos de liberdade = ', n_grados_libertad)"
   ]
  },
  {
   "cell_type": "code",
   "execution_count": 226,
   "metadata": {},
   "outputs": [
    {
     "data": {
      "text/plain": [
       "0.7561406584183937"
      ]
     },
     "execution_count": 226,
     "metadata": {},
     "output_type": "execute_result"
    }
   ],
   "source": [
    "media = sum(xbins[:-1]*frec)/sum(frec)\n",
    "media"
   ]
  },
  {
   "cell_type": "code",
   "execution_count": 227,
   "metadata": {},
   "outputs": [
    {
     "data": {
      "text/plain": [
       "1.3225052625680553"
      ]
     },
     "execution_count": 227,
     "metadata": {},
     "output_type": "execute_result"
    }
   ],
   "source": [
    "k"
   ]
  },
  {
   "cell_type": "code",
   "execution_count": 231,
   "metadata": {},
   "outputs": [
    {
     "data": {
      "text/plain": [
       "[<matplotlib.lines.Line2D at 0x182105cd608>]"
      ]
     },
     "execution_count": 231,
     "metadata": {},
     "output_type": "execute_result"
    },
    {
     "data": {
      "image/png": "[encoded data removed]",
      "text/plain": [
       "<Figure size 432x288 with 1 Axes>"
      ]
     },
     "metadata": {
      "needs_background": "light"
     },
     "output_type": "display_data"
    }
   ],
   "source": [
    "xaux = np.linspace(0,10,1000)\n",
    "plt.plot(xaux, 1.3225*np.exp(-1.3225*xaux))"
   ]
  },
  {
   "cell_type": "code",
   "execution_count": null,
   "metadata": {},
   "outputs": [],
   "source": [
    "\"\"\"\n",
    "def chi2_poisson(xi, frec):\n",
    "    #calculamos la media de poisson, lambda\n",
    "    l = sum(xi*frec)/sum(frec)\n",
    "    #definimos la distribución de probabilidad\n",
    "    p = []\n",
    "    for i in range(len(frec)):\n",
    "        p.append((l)**i*np.exp(-l)/se.factorial(i))\n",
    "    #definimos las frecuencias esperadas\n",
    "    frec_esp= []\n",
    "    for i in range(len(p)):\n",
    "        frec_esp.append(p[i]*100)\n",
    "    #definimos el chi2\n",
    "    chi2 = 0\n",
    "    for i in range(len(frec_esp)):\n",
    "        chi2 += ((frec[i] - frec_esp[i])**2/frec_esp[i])\n",
    "    return chi2\n",
    "\n",
    "chi2 = chi2_poisson(labels, counts)\n",
    "print(chi2)\n",
    "\"\"\""
   ]
  },
  {
   "cell_type": "code",
   "execution_count": null,
   "metadata": {},
   "outputs": [],
   "source": [
    "############################################################################################################################\n",
    "# Representación gráfica simultánea\n",
    "\n",
    "\"\"\"labels1, counts1 = np.unique(cuentas_1s, return_counts=True)\n",
    "labels25, counts25 = np.unique(cuentas_2symedio, return_counts=True)\n",
    "labels5, counts5 = np.unique(cuentas_5s, return_counts=True)\n",
    "labels10, counts10 = np.unique(cuentas_10s, return_counts=True)\n",
    "\n",
    "f, ((ax1, ax2), (ax3, ax4)) = plt.subplots(2, 2)\n",
    "# sharey='row' para compartir el eje Y\n",
    "# sharex='col'\n",
    "\n",
    "ax1.bar(labels1, counts1, align='center', color='#3D59AB', edgecolor='k')\n",
    "ax2.bar(labels25, counts25, align='center', color='#3D59AB', edgecolor='k')\n",
    "ax3.bar(labels5, counts5, align='center', color='#3D59AB', edgecolor='k')\n",
    "ax4.bar(labels10, counts10, align='center', color='#3D59AB', edgecolor='k')\n",
    "\n",
    "\n",
    "plt.tight_layout()\n",
    "plt.show()\"\"\"\n",
    "############################################################################################################################"
   ]
  }
 ],
 "metadata": {
  "kernelspec": {
   "display_name": "Python 3",
   "language": "python",
   "name": "python3"
  },
  "language_info": {
   "codemirror_mode": {
    "name": "ipython",
    "version": 3
   },
   "file_extension": ".py",
   "mimetype": "text/x-python",
   "name": "python",
   "nbconvert_exporter": "python",
   "pygments_lexer": "ipython3",
   "version": "3.7.4"
  }
 },
 "nbformat": 4,
 "nbformat_minor": 2
}
