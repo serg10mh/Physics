{
 "cells": [
  {
   "cell_type": "markdown",
   "metadata": {},
   "source": [
    "# Regresión no lineal"
   ]
  },
  {
   "cell_type": "markdown",
   "metadata": {},
   "source": [
    "Importamos los módulos necesarios:"
   ]
  },
  {
   "cell_type": "code",
   "execution_count": 1,
   "metadata": {},
   "outputs": [],
   "source": [
    "import numpy as np\n",
    "import matplotlib.pylab as plt\n",
    "import scipy.optimize as so\n",
    "import pandas as pd\n",
    "from decimal import * #para las cifras significativas"
   ]
  },
  {
   "cell_type": "markdown",
   "metadata": {},
   "source": [
    "Leemos los datos de un fichero, sea un .txt o un excel:"
   ]
  },
  {
   "cell_type": "markdown",
   "metadata": {},
   "source": [
    "1. Leer un txt:"
   ]
  },
  {
   "cell_type": "code",
   "execution_count": 2,
   "metadata": {},
   "outputs": [
    {
     "data": {
      "text/plain": [
       "\"\\narchivo=input('Archivo de datos: ') \\n\\ndef readinputdata(filename):\\n    fichero=open(filename,'r')\\n    f=[]\\n    line='0'\\n    while len(line)>0:\\n        line=np.array(fichero.readline().split()).astype(float)\\n        if len(line)>0 :\\n            f.append(line)\\n    fichero.close()\\n    return np.array(f)\\n\\ndata=readinputdata(archivo)\\n\\nx=data[:,0]\\ny=data[:,1]\\ns=data[:,2]\\n\""
      ]
     },
     "execution_count": 2,
     "metadata": {},
     "output_type": "execute_result"
    }
   ],
   "source": [
    "\"\"\"\n",
    "archivo=input('Archivo de datos: ') \n",
    "\n",
    "def readinputdata(filename):\n",
    "    fichero=open(filename,'r')\n",
    "    f=[]\n",
    "    line='0'\n",
    "    while len(line)>0:\n",
    "        line=np.array(fichero.readline().split()).astype(float)\n",
    "        if len(line)>0 :\n",
    "            f.append(line)\n",
    "    fichero.close()\n",
    "    return np.array(f)\n",
    "\n",
    "data=readinputdata(archivo)\n",
    "\n",
    "x=data[:,0]\n",
    "y=data[:,1]\n",
    "s=data[:,2]\n",
    "\"\"\""
   ]
  },
  {
   "cell_type": "markdown",
   "metadata": {},
   "source": [
    "2. Leer un Excel:"
   ]
  },
  {
   "cell_type": "code",
   "execution_count": 11,
   "metadata": {},
   "outputs": [],
   "source": [
    "cdir = 'C:\\\\Users\\\\sergi\\\\OneDrive\\\\Escritorio\\\\FÍSICA\\\\QUINTO\\\\TÉCNICAS IV\\\\Sólido\\\\Efecto Hall\\\\'  #si da error, probar a poner solo una /\n",
    "nombre = 'HallGe.xlsx' #nombre del archivo\n",
    "xls = pd.ExcelFile(cdir+nombre)\n",
    "\n",
    "datos = pd.read_excel(xls, sheet_name= 'Sheet1', header=0, nrows= 10) #leer los datos\n",
    "y = np.array(datos['coc'],'float') # y ('nombre de la columna')\n",
    "x = np.array(datos['B magnetorresistencia (T)'],'float') # datos de conteo (x)\n",
    "error_y = np.array(datos['Error cociente'],'float')\n",
    "#error_x = np.array(datos['ΔB magnetorresistencia'],'float')"
   ]
  },
  {
   "cell_type": "markdown",
   "metadata": {},
   "source": [
    "Definimos una función de ajuste:"
   ]
  },
  {
   "cell_type": "code",
   "execution_count": 12,
   "metadata": {},
   "outputs": [],
   "source": [
    "#parámetros\n",
    "#x0 = 1 #constante\n",
    "a=[] #parámetros a ajustar\n",
    "b=[]\n",
    "c=[]\n",
    "#función de ajuste\n",
    "def fun(x, b):\n",
    "    y = b*(x**2)\n",
    "    return y\n",
    "\n",
    "#valores iniciales de los parámetros\n",
    "par = [10**(-7)]"
   ]
  },
  {
   "cell_type": "markdown",
   "metadata": {},
   "source": [
    "Ajuste de los datos leídos a la curva:"
   ]
  },
  {
   "cell_type": "code",
   "execution_count": 13,
   "metadata": {},
   "outputs": [],
   "source": [
    "sol , cov = so.curve_fit(fun , x , y, p0=(par), sigma=error_y)\n",
    "#cov = matriz de covarianza , sol = resultados de los parámetros\n",
    "#a_aux = sol[0] #parámetros que mejor se ajustan a los datos\n",
    "b_aux = sol[0]\n",
    "#c_aux = sol[2]\n",
    "#sa_aux , sb_aux = np.sqrt(np.diag(cov)) #desviaciones estándar (diagonal de la matriz de covarianza)\n",
    "sb_aux = np.sqrt(np.diag(cov))"
   ]
  },
  {
   "cell_type": "markdown",
   "metadata": {},
   "source": [
    "Escribimos las cifras significativas correctamente:"
   ]
  },
  {
   "cell_type": "code",
   "execution_count": 14,
   "metadata": {},
   "outputs": [],
   "source": [
    "#sa = Decimal('%s' % float('%.2g' % sa_aux)) #incertidumbres con 2 cifras significativas\n",
    "sb = Decimal('%s' % float('%.2g' % sb_aux))\n",
    "#sc = Decimal('%s' % float('%.2g' % sc_aux))"
   ]
  },
  {
   "cell_type": "code",
   "execution_count": 15,
   "metadata": {},
   "outputs": [],
   "source": [
    "#csa = Decimal(sa) #calculamos el número de decimales (no cifras) significativos de las incertidumbres\n",
    "#csa.as_tuple().exponent\n",
    "#decimales_significativos_a = abs(csa.as_tuple().exponent)\n",
    "\n",
    "csb = Decimal(sb)\n",
    "csb.as_tuple().exponent\n",
    "decimales_significativos_b = abs(csb.as_tuple().exponent)\n",
    "\n",
    "#csc = Decimal(sb)\n",
    "#csc.as_tuple().exponent\n",
    "#decimales_significativos_c = abs(csc.as_tuple().exponent)"
   ]
  },
  {
   "cell_type": "code",
   "execution_count": 16,
   "metadata": {},
   "outputs": [],
   "source": [
    "#a = round(a_aux, decimales_significativos_a) #redondeamos el valor medio al número de decimales significativos\n",
    "b = round(b_aux, decimales_significativos_b)\n",
    "#c = round(b_aux, decimales_significativos_c)"
   ]
  },
  {
   "cell_type": "code",
   "execution_count": 17,
   "metadata": {},
   "outputs": [
    {
     "name": "stdout",
     "output_type": "stream",
     "text": [
      "Parámetros del ajuste:\n",
      "b =  1.486e-07 ± 2.3E-9\n"
     ]
    }
   ],
   "source": [
    "print('Parámetros del ajuste:')\n",
    "#print('a = ', a,'\\u00B1',sa) #\\u00B1 es el símbolo ±\n",
    "print('b = ', b,'\\u00B1',sb)\n",
    "#print('c = ', c,'\\u00B1',sc)"
   ]
  },
  {
   "cell_type": "markdown",
   "metadata": {},
   "source": [
    "### Representación gráfica"
   ]
  },
  {
   "cell_type": "code",
   "execution_count": 19,
   "metadata": {
    "scrolled": true
   },
   "outputs": [
    {
     "data": {
      "image/png": "[encoded data removed]",
      "text/plain": [
       "<Figure size 432x288 with 1 Axes>"
      ]
     },
     "metadata": {
      "needs_background": "light"
     },
     "output_type": "display_data"
    }
   ],
   "source": [
    "plt.clf()\n",
    "\n",
    "plt.plot(x, y, 'ko')\n",
    "#n=len(x); p=[0, n-1]\n",
    "y_ajuste = b*x**2\n",
    "plt.plot(x, y_ajuste, 'g-', label='$V_{x}(j_{x},B_{z})/V_{x}(j_{x},0)-1$ = %g $B^{2}$' % (b))\n",
    "plt.title('Medida de la magnetorresistencia')\n",
    "plt.xlabel('$B_{z}$ (mT)', fontsize=10)\n",
    "plt.ylabel('$V_{x}(j_{x},B_{z})/V_{x}(j_{x},0)-1$', fontsize=10)\n",
    "plt.xticks(fontsize=10); plt.yticks(fontsize=10)\n",
    "plt.legend(loc='best', fontsize=10)\n",
    "plt.savefig(\"magnetorresistencia.pdf\", format=\"pdf\")\n",
    "#plt.errorbar(x, y, yerr=error_y, xerr=0, capsize=1.2, elinewidth=0.4, fmt='b.')\n",
    "plt.show()\n",
    "\n",
    "#plt.xlim(1900 , 2020)\n",
    "#plt.ylim(0, 0.5)\n",
    "#plt.savefig('')\n",
    "#plt.grid(False)\n",
    "#plt.errorbar(t1 , x1 , capsize=1.2, elinewidth=0.4, fmt='k.')\n",
    "#plt.errorbar(x, y, yerr=error_y, xerr=0, capsize=1.2, elinewidth=0.4, fmt='b.')"
   ]
  },
  {
   "cell_type": "code",
   "execution_count": null,
   "metadata": {},
   "outputs": [],
   "source": []
  }
 ],
 "metadata": {
  "kernelspec": {
   "display_name": "Python 3",
   "language": "python",
   "name": "python3"
  },
  "language_info": {
   "codemirror_mode": {
    "name": "ipython",
    "version": 3
   },
   "file_extension": ".py",
   "mimetype": "text/x-python",
   "name": "python",
   "nbconvert_exporter": "python",
   "pygments_lexer": "ipython3",
   "version": "3.7.4"
  }
 },
 "nbformat": 4,
 "nbformat_minor": 2
}
