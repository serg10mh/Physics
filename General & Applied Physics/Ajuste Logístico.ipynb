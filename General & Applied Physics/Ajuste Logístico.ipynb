{
 "cells": [
  {
   "cell_type": "markdown",
   "metadata": {},
   "source": [
    "# Ajuste Logístico\n",
    "En el año 1938 el matemático belga Pierre François Verhulst presenta la ecuación logística como descripción del crecimiento autolimitado de una población. En este Notebook se introducirá y se analizará su ajuste a datos reales."
   ]
  },
  {
   "cell_type": "markdown",
   "metadata": {},
   "source": [
    "La ecuación logística representa la variación de individuos en el tiempo.Si recogemos datos sobre la evolución de una población y queremos saber si evoluciona de forma logística, hemos de compararlos por tanto con la siguiente ecuación diferencial:\n",
    "\n",
    "$$\\frac{d n}{d t}=r n\\left(1-\\frac{n}{N}\\right)$$\n",
    "\n",
    "La capacidad de carga (N) da información sobre la cantidad de recursos disponibles, mientras la tasa de crecimiento (r) sobre el crecimiento inicial de la población. Resolviendo la ecuación diferencial, es decir, obteniendo el valor de la población en función del tiempo:\n",
    "\n",
    "$$\\frac{d n}{d t}=r n\\left(1-\\frac{n}{N}\\right) \\Rightarrow \\frac{d n}{n\\left(1-\\frac{n}{N}\\right)}=r d t \\Rightarrow \\int \\frac{d n}{n\\left(1-\\frac{n}{N}\\right)}= \\int\\left[\\frac{1}{n}+\\frac{\\frac{1}{N}}{1-\\frac{n}{N}}\\right] d n= \\int rt dt \\Rightarrow$$\n",
    "$$\\Rightarrow \\ln n+\\frac{1}{N} \\int \\frac{d n}{1-\\frac{n}{N}}=\\ln n-\\ln |N-n| =r t+C $$\n",
    "\n",
    "Despejando $n$ e introduciendo la condición inicial $n(t=0) = n_{0}$:\n",
    "\n",
    "$$\\ln \\left(\\frac{n}{N-n}\\right)=r t+C \\quad \\Rightarrow \\quad \\frac{n}{N-n}=C e^{r t} \\qquad ; \\qquad \\frac{n_{0}}{N-n_{0}}=C e^{0}=C$$\n",
    "\n",
    "Finalmente:\n",
    "\n",
    "$$n(t)=\\frac{N}{1+\\left(\\frac{N-n_{0}}{n_{0}}\\right) e^{-r t}}$$\n",
    "\n",
    "Como podemos observar, hay dependencia exponencial en $\\textbf{r}$, contribución que dominará en los instantes iniciales. Cabe destacar que r toma valores porcentuales, es decir, si $\\textbf{r}=0,2$, quiere decir que el crecimiento es de un 20\\%; si $\\textbf{r}<0$, entonces la población decrecerá.\n",
    "\n",
    "Además, hay que destacar que hemos optado por resolver la ecuación en función de la capacidad de carga porque es más conveniente para realizar los ajustes. En la teoría este parámetro se puede considerar como la población total pero, en la práctica, puede ser un valor menor."
   ]
  },
  {
   "cell_type": "markdown",
   "metadata": {},
   "source": [
    "Pasemos entonces a analizar algunos ejemplos reales. En la teoría, esta ecuación describe perfectamente el crecimiento autolimitado de una población. Es decir, modelizaría perfectamente la evolución del número de individuos en una población de conejos que viven en una isla sin depredadores, con espacio y alimento limitados. Como este caso es irreal, intentaremos ajustar otro tipo de datos con esta función, y así poder sacar conclusiones sobre sus parámetros a partir de los resultados."
   ]
  },
  {
   "cell_type": "markdown",
   "metadata": {},
   "source": [
    "## 1. Población mundial"
   ]
  },
  {
   "cell_type": "markdown",
   "metadata": {},
   "source": [
    "En primer lugar, tomamos los datos de la base ourworldindata.org sobre un estudio que ha realizado Naciones Unidas con sus predicciones sobre la evolución de la población mundial hasta 2100."
   ]
  },
  {
   "cell_type": "markdown",
   "metadata": {},
   "source": [
    "Importamos las librerías que necesitamos."
   ]
  },
  {
   "cell_type": "code",
   "execution_count": 182,
   "metadata": {},
   "outputs": [],
   "source": [
    "import numpy as np\n",
    "import matplotlib.pylab as plt\n",
    "import scipy.optimize as so\n",
    "import pandas as pd"
   ]
  },
  {
   "cell_type": "markdown",
   "metadata": {},
   "source": [
    "A continuación, cargamos el fichero de datos llamado \"poblacion_mundial\"."
   ]
  },
  {
   "cell_type": "code",
   "execution_count": 183,
   "metadata": {},
   "outputs": [],
   "source": [
    "cdir = 'C:\\\\' #escribimos el directorio del archivo de datos\n",
    "nombre = 'poblacionmundial.xlsx'\n",
    "xls = pd.ExcelFile(cdir+nombre)"
   ]
  },
  {
   "cell_type": "markdown",
   "metadata": {},
   "source": [
    "Leemos el archivo y almacenamos los datos de interés en las variables x e y. Además, destacamos el dato de población máxima, pues nos servirá para compararlo con la predicción logística."
   ]
  },
  {
   "cell_type": "code",
   "execution_count": 184,
   "metadata": {},
   "outputs": [],
   "source": [
    "data = pd.read_excel(xls, sheet_name= 'Hoja1', header= 0, nrows= 151)\n",
    "maxima = pd.read_excel(xls, sheet_name= 'Hoja1', header= 0, nrows= 1 )\n",
    "y = np.array(data['pob/total'],'float')\n",
    "x = np.array(data['num'],'float')\n",
    "total = float(maxima['pobmaxima'])"
   ]
  },
  {
   "cell_type": "markdown",
   "metadata": {},
   "source": [
    "Definimos la función y los parámetros iniciales."
   ]
  },
  {
   "cell_type": "code",
   "execution_count": 185,
   "metadata": {},
   "outputs": [],
   "source": [
    "x0 = 0.23345588 #población relativa inicial\n",
    "r=[]\n",
    "n=[]\n",
    "par1 = [1 , 100]\n",
    "def fun(t,r,n):\n",
    "    x = n/(1+(((n-x0)/x0)*np.exp(-r*t)))\n",
    "    return x"
   ]
  },
  {
   "cell_type": "markdown",
   "metadata": {},
   "source": [
    "Ajustamos los datos a la curva con la función curve_fit de la librería Scipy. Además, almacenamos el valor de los parámetros que mejor se ajustan."
   ]
  },
  {
   "cell_type": "code",
   "execution_count": 186,
   "metadata": {},
   "outputs": [],
   "source": [
    "sol , cov = so.curve_fit(fun , x , y , p0=(par1))\n",
    "r = sol[0]\n",
    "n = sol[1]"
   ]
  },
  {
   "cell_type": "markdown",
   "metadata": {},
   "source": [
    "Reescribimos los parámetros porcentualmente y representamos gráficamente."
   ]
  },
  {
   "cell_type": "code",
   "execution_count": 230,
   "metadata": {},
   "outputs": [
    {
     "data": {
      "image/png": "[encoded data removed]",
      "text/plain": [
       "<Figure size 432x288 with 1 Axes>"
      ]
     },
     "metadata": {
      "needs_background": "light"
     },
     "output_type": "display_data"
    }
   ],
   "source": [
    "plt.clf()\n",
    "taux=np.linspace(0 , 150 , 150)\n",
    "fechas = np.arange(0,151,25)\n",
    "R = r *100\n",
    "N = n *100\n",
    "plt.plot(x , y , 'r')\n",
    "plt.plot(taux, fun(taux, r, n), 'k-' , label=f'r = {R:.3f}% , N = {N:.2f}%')\n",
    "plt.xlabel('Años', fontsize=10)\n",
    "plt.ylabel('Población', fontsize=10)\n",
    "plt.xticks(fechas,['1950','1975','2000','2025','2050','2075','2100'],fontsize=10) #reescribimos los datos del eje horizontal para que sean años\n",
    "plt.yticks(fontsize=10)\n",
    "plt.legend(loc='best', fontsize=10)\n",
    "plt.title('Evolución de la población mundial')\n",
    "plt.grid(False)\n",
    "plt.show()"
   ]
  },
  {
   "cell_type": "code",
   "execution_count": 169,
   "metadata": {},
   "outputs": [
    {
     "name": "stdout",
     "output_type": "stream",
     "text": [
      "La población total estimada por la base de datos es de 10880000000 personas, mientras que el crecimiento logístico predice un total de 11678038868 personas, es decir, con un error relativo del 0.07% \n"
     ]
    }
   ],
   "source": [
    "print('La población total estimada por la base de datos es de {:.0f} personas, mientras que el crecimiento logístico predice un total de {:.0f} personas, es decir, con un error relativo del {:.2f}% '.format(total, total*n, abs(total-total*n)/total))"
   ]
  },
  {
   "cell_type": "markdown",
   "metadata": {},
   "source": [
    "Como se puede observar, hay una clara tendencia ascendente a partir de los años 50. Después de la segunda guerra mundial, la calidad de vida media ascendió, de forma que la cantidad de muertes se vio muy superada por la de nacimientos. A día de hoy, este crecimiento sigue vigente, sobre todo gracias a las superpoblaciones orientales. Se estima que a mediados de siglo esto mismo sea el factor que comience a amortiguar este crecimiento, llegando a un punto estable a finales de siglo. La tendencia es claramente logística: la población asciende fruto de los recursos con los que cuenta pero se estanca, llegado el momento, por la falta de los mismos."
   ]
  },
  {
   "cell_type": "markdown",
   "metadata": {},
   "source": [
    "## 2. Urbanización"
   ]
  },
  {
   "cell_type": "markdown",
   "metadata": {},
   "source": [
    "En segundo lugar, veamos si la urbanización en el siglo pasado evoluciona de forma logística.\n",
    "\n",
    "En este segundo ejemplo hemos recogido datos sobre la variación del porcentaje de población\n",
    "que vive en zonas rurales y en zonas urbanas en el país más grande del mundo: Rusia."
   ]
  },
  {
   "cell_type": "markdown",
   "metadata": {},
   "source": [
    "Cargamos el fichero de datos llamado \"poblacion_urbana_rural\"."
   ]
  },
  {
   "cell_type": "code",
   "execution_count": 170,
   "metadata": {},
   "outputs": [],
   "source": [
    "cdir = 'C:' #directorio \n",
    "nombre = 'urban-and-rural-population.xlsx' \n",
    "xls = pd.ExcelFile(cdir+nombre)"
   ]
  },
  {
   "cell_type": "markdown",
   "metadata": {},
   "source": [
    "Leemos los datos de interés y los almacenamos en las variables correspondientes."
   ]
  },
  {
   "cell_type": "code",
   "execution_count": 171,
   "metadata": {},
   "outputs": [],
   "source": [
    "datos = pd.read_excel(xls, sheet_name= 'Worksheet', header=0, nrows= 58)\n",
    "año = np.array(datos['num'],'float')\n",
    "rural = np.array(datos['rural media'],'float')\n",
    "urbana = np.array(datos['urban media'],'float')"
   ]
  },
  {
   "cell_type": "markdown",
   "metadata": {},
   "source": [
    "Definimos de nuevo la función y los parámetros iniciales."
   ]
  },
  {
   "cell_type": "code",
   "execution_count": 172,
   "metadata": {},
   "outputs": [],
   "source": [
    "x0_rural = 0.462\n",
    "x0_urbana = 0.53731\n",
    "r=[]\n",
    "k=[]\n",
    "par1 = [1 , 0.5]\n",
    "def fun_rural(t,r,k):\n",
    "    x = k/(1+(((k-x0_rural)/x0_rural)*np.exp(-r*t)))\n",
    "    return x\n",
    "def fun_urbana(t,r,k):\n",
    "    x = k/(1+(((k-x0_urbana)/x0_urbana)*np.exp(-r*t)))\n",
    "    return x"
   ]
  },
  {
   "cell_type": "markdown",
   "metadata": {},
   "source": [
    "Ajustamos la curva y determinamos el valor de los parámetros."
   ]
  },
  {
   "cell_type": "code",
   "execution_count": 173,
   "metadata": {},
   "outputs": [],
   "source": [
    "sol_rural , cov = so.curve_fit(fun_rural , año , rural , p0=(par1))\n",
    "sol_urbana , cov = so.curve_fit(fun_urbana , año , urbana , p0=(par1))\n",
    "\n",
    "r_rural = sol_rural[0]\n",
    "k_rural = sol_rural[1]\n",
    "r_urbana = sol_urbana[0]\n",
    "k_urbana = sol_urbana[1]\n",
    "'Años', ['1963','1973','1983','1993','2003','2013']"
   ]
  },
  {
   "cell_type": "markdown",
   "metadata": {},
   "source": [
    "Representamos gráficamente los resultados obtenidos. De nuevo, espresamos los parámetros de forma porcentual."
   ]
  },
  {
   "cell_type": "code",
   "execution_count": 237,
   "metadata": {
    "scrolled": true
   },
   "outputs": [
    {
     "data": {
      "image/png": "[encoded data removed]",
      "text/plain": [
       "<Figure size 432x288 with 1 Axes>"
      ]
     },
     "metadata": {
      "needs_background": "light"
     },
     "output_type": "display_data"
    }
   ],
   "source": [
    "taux=np.linspace(0 , 60 , 59)\n",
    "fechas = np.arange(0,55,10)\n",
    "\n",
    "rporciento_urbana = r_urbana *100\n",
    "kporciento_urbana = k_urbana *100\n",
    "rporciento_rural = r_rural *100\n",
    "kporciento_rural = k_rural *100\n",
    "\n",
    "fig, ax = plt.subplots()\n",
    "plt.plot(año , rural , 'k.' , label='Pob. rural')\n",
    "plt.plot(taux, fun_rural(taux, r_rural, k_rural), 'k-', label=f'r = -{rporciento_rural:.2f}% , N = {kporciento_rural:.2f}%')\n",
    "plt.plot(año , urbana , 'r.' , label='Pob. urbana')\n",
    "plt.plot(taux, fun_urbana(taux, r_urbana, k_urbana), 'r-', label=f'r = {rporciento_urbana:.2f}% , N = {kporciento_urbana:.2f}%')\n",
    "plt.xlabel('Años', fontsize=10)\n",
    "plt.ylabel('Población (%)', fontsize=10)\n",
    "plt.xticks(fechas, ['1963','1973','1983','1993','2003','2013'], fontsize=10)\n",
    "plt.yticks(fontsize=10)\n",
    "plt.legend(loc='best', fontsize=10)\n",
    "plt.title('% de población urbana y rural entre 1963 y 2017')\n",
    "plt.grid(False)\n",
    "plt.show()"
   ]
  },
  {
   "cell_type": "markdown",
   "metadata": {},
   "source": [
    "La tendencia en este último medio siglo es un crecimiento muy claro en la cantidad de personas que han pasado a vivir en la ciudad procedentes de ámbitos rurales, fruto de los cambios socio-económicos que ha vivido el país durante este periodo."
   ]
  },
  {
   "cell_type": "markdown",
   "metadata": {},
   "source": [
    "## 3. Matrimonios que acaban en divorcio"
   ]
  },
  {
   "cell_type": "markdown",
   "metadata": {},
   "source": [
    "En este tercer ejemplo veremos otro caso no convencional para esta ecuación. Esta vez tenemos datos sobre el porcentaje de matrimonios que acaban en divorcio en Reino Unido:\n",
    "\n",
    "\n",
    "Procedemos como en el resto de ejemplos. En primer lugar cargamos el fichero de datos correspondiente."
   ]
  },
  {
   "cell_type": "code",
   "execution_count": 242,
   "metadata": {},
   "outputs": [],
   "source": [
    "cdir = 'C:'\n",
    "nombre = 'marriages-ending-divorce-uk.xlsx'\n",
    "xls = pd.ExcelFile(cdir+nombre)"
   ]
  },
  {
   "cell_type": "code",
   "execution_count": 243,
   "metadata": {},
   "outputs": [],
   "source": [
    "mat1963 = pd.read_excel(xls, sheet_name= 'Worksheet', header=0, nrows= 55)\n",
    "div1963 = pd.read_excel(xls, sheet_name= 'Worksheet', header=0, nrows= 55)\n",
    "año_matrimonio1963 = np.array(mat1963['num'],'float')\n",
    "porcentaje_divorcio1963 = np.array(div1963['normal'],'float')"
   ]
  },
  {
   "cell_type": "code",
   "execution_count": 244,
   "metadata": {},
   "outputs": [],
   "source": [
    "x0 = 0.01\n",
    "r=[]\n",
    "k=[]\n",
    "par1 = [0.5 , 30]\n",
    "def fun(t,r,k):\n",
    "    x = k/(1+(((k-x0)/x0)*np.exp(-r*t)))\n",
    "    return x"
   ]
  },
  {
   "cell_type": "code",
   "execution_count": 245,
   "metadata": {},
   "outputs": [],
   "source": [
    "sol_1963 , cov = so.curve_fit(fun , año_matrimonio1963 , porcentaje_divorcio1963 , p0=(par1))\n",
    "\n",
    "r_1963 = sol_1963[0]\n",
    "k_1963 = sol_1963[1]"
   ]
  },
  {
   "cell_type": "code",
   "execution_count": 247,
   "metadata": {},
   "outputs": [
    {
     "data": {
      "image/png": "[encoded data removed]",
      "text/plain": [
       "<Figure size 432x288 with 1 Axes>"
      ]
     },
     "metadata": {
      "needs_background": "light"
     },
     "output_type": "display_data"
    }
   ],
   "source": [
    "plt.clf()\n",
    "plt.plot(año_matrimonio1963 , porcentaje_divorcio1963 , 'k.', label='')\n",
    "\n",
    "taux=np.linspace(0 , 55 , 1000)\n",
    "fechas = np.arange(0,55,10)\n",
    "\n",
    "rporciento_1963 = r_1963 *100\n",
    "kporciento_1963 = k_1963 *100\n",
    "\n",
    "plt.plot(año_matrimonio1963 , porcentaje_divorcio1963 , 'k.')\n",
    "plt.plot(taux, fun(taux, r_1963, k_1963), 'k-' , label=f'r = {rporciento_1963:.2f}% , N = {kporciento_1963:.2f}%')\n",
    "\n",
    "plt.xlabel('Años', fontsize=10)\n",
    "plt.ylabel('Divorcios (%)', fontsize=10)\n",
    "plt.xticks(fechas, ['1963','1973','1983','1993','2003','2013'], fontsize=10)\n",
    "plt.yticks(fontsize=10)\n",
    "plt.legend(loc='best', fontsize=10)\n",
    "plt.title('% de parejas divorciadas, casadas a partir de 1960 en Reino Unido')\n",
    "plt.grid(False)\n",
    "plt.show()"
   ]
  },
  {
   "cell_type": "markdown",
   "metadata": {},
   "source": [
    "Como vemos, el porcentaje de matrimonios que se casaron en el año 1963 aumenta hasta estabilizase en un 26 %. En los primeros y en los últimos años casi no hay variación; las parejas tardan un cierto tiempo en divorciarse, pero si superan los 30 años casados no lo suelen hacer en la vejez.\n",
    "Pese a no tratarse de un sistema logístico convencional, la capacidad de carga y el parámetro de crecimiento nos pueden dar información sobre factores sociales dependientes de la época: la religión, la situación económica de la mujer..."
   ]
  },
  {
   "cell_type": "markdown",
   "metadata": {},
   "source": [
    "## BIBLIOGRAFÍA\n",
    "Logistic equation; Weisstein, Eric W; https://mathworld.wolfram.com/LogisticEquation.html\n",
    "\n",
    "Future population growth; https://ourworldindata.org/future-population-growth\n",
    "\n",
    "Urbanization; https://ourworldindata.org/urbanization\n",
    "\n",
    "Marriages and divorces; https://ourworldindata.org/marriages-and-divorces"
   ]
  }
 ],
 "metadata": {
  "kernelspec": {
   "display_name": "Python 3",
   "language": "python",
   "name": "python3"
  },
  "language_info": {
   "codemirror_mode": {
    "name": "ipython",
    "version": 3
   },
   "file_extension": ".py",
   "mimetype": "text/x-python",
   "name": "python",
   "nbconvert_exporter": "python",
   "pygments_lexer": "ipython3",
   "version": "3.7.4"
  }
 },
 "nbformat": 4,
 "nbformat_minor": 2
}
