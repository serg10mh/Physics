{
 "cells": [
  {
   "cell_type": "markdown",
   "metadata": {},
   "source": [
    "# Regresión lineal"
   ]
  },
  {
   "cell_type": "markdown",
   "metadata": {},
   "source": [
    "Importamos los módulos necesarios:"
   ]
  },
  {
   "cell_type": "code",
   "execution_count": 110,
   "metadata": {},
   "outputs": [],
   "source": [
    "import numpy as np\n",
    "from numpy.linalg import * #para determinante matriz\n",
    "import pandas as pd\n",
    "from decimal import * #para las cifras significativas\n",
    "import matplotlib.pyplot as plt"
   ]
  },
  {
   "cell_type": "markdown",
   "metadata": {},
   "source": [
    "El objetivo es, a partir de un conjunto de N pares de datos almacenados en las magnitudes x e y, determinar los valores de los parámetos a y b que mejor se ajustan a la recta y = b*x +a (mediante el método de mínimos cuadrados). "
   ]
  },
  {
   "cell_type": "markdown",
   "metadata": {},
   "source": [
    "Importamos los datos con los que queremos trabajar:"
   ]
  },
  {
   "cell_type": "markdown",
   "metadata": {},
   "source": [
    "1. Leer un txt:"
   ]
  },
  {
   "cell_type": "code",
   "execution_count": 111,
   "metadata": {},
   "outputs": [
    {
     "data": {
      "text/plain": [
       "\"\\narchivo=input('Archivo de datos: ') \\n\\ndef readinputdata(filename):\\n    fichero=open(filename,'r')\\n    f=[]\\n    line='0'\\n    while len(line)>0:\\n        line=np.array(fichero.readline().split()).astype(float)\\n        if len(line)>0 :\\n            f.append(line)\\n    fichero.close()\\n    return np.array(f)\\n\\ndata=readinputdata(archivo)\\n\\nx=data[:,0]\\ny=data[:,1]\\ns=data[:,2]\\n\""
      ]
     },
     "execution_count": 111,
     "metadata": {},
     "output_type": "execute_result"
    }
   ],
   "source": [
    "\"\"\"\n",
    "archivo=input('Archivo de datos: ') \n",
    "\n",
    "def readinputdata(filename):\n",
    "    fichero=open(filename,'r')\n",
    "    f=[]\n",
    "    line='0'\n",
    "    while len(line)>0:\n",
    "        line=np.array(fichero.readline().split()).astype(float)\n",
    "        if len(line)>0 :\n",
    "            f.append(line)\n",
    "    fichero.close()\n",
    "    return np.array(f)\n",
    "\n",
    "data=readinputdata(archivo)\n",
    "\n",
    "x=data[:,0]\n",
    "y=data[:,1]\n",
    "s=data[:,2]\n",
    "\"\"\""
   ]
  },
  {
   "cell_type": "markdown",
   "metadata": {},
   "source": [
    "2. Leer un Excel:"
   ]
  },
  {
   "cell_type": "code",
   "execution_count": 126,
   "metadata": {},
   "outputs": [],
   "source": [
    "cdir = 'C:\\\\Users\\\\sergi\\\\OneDrive\\\\Escritorio\\\\FÍSICA\\\\QUINTO\\\\TÉCNICAS IV\\\\Sólido\\\\Efecto Hall\\\\'  #si da error, probar a poner solo una \\ ; dejar las \\\\ al final\n",
    "nombre = 'PropagaciónDeIncertidumbres.xlsx' #nombre del archivo\n",
    "xls = pd.ExcelFile(cdir+nombre)\n",
    "datos = pd.read_excel(xls, sheet_name= 'Sheet1', header=1, nrows=12) #datos de la hoja de cálculo\n",
    "y = np.array(datos['Vmed (mV)'],'float') # y ('nombre de la columna')\n",
    "x = np.array(datos['Ix (mA) (Bz = 0)'],'float') # datos de conteo (x)\n",
    "sy = np.array(datos['u(Vmed)'],'float') #incertidumbre de la variable dependiente"
   ]
  },
  {
   "cell_type": "markdown",
   "metadata": {},
   "source": [
    "Definimos una función que realice el ajuste:"
   ]
  },
  {
   "cell_type": "code",
   "execution_count": 127,
   "metadata": {},
   "outputs": [],
   "source": [
    "def regresionSimple(x,y):\n",
    "    n=len(x)\n",
    "    sx=sum(x); sy=sum(y); xx=np.dot(x,x); yy=np.dot(y,y); xy=np.dot(x,y);\n",
    "    denom=(n*xx - sx**2)\n",
    "    b=(n*xy - sx*sy)/denom #pendiente\n",
    "    a=(xx*sy - sx*xy)/denom #ordenada en el origen\n",
    "    s=np.sqrt(sum((y-a-b*x)**2)/(n-2))\n",
    "    sa=s*np.sqrt(xx/(n*xx-sx**2)) #incertidumbre de a\n",
    "    sb=s*np.sqrt(n/(n*xx-sx**2)) #incertidumbre de b\n",
    "    r=(n*xy-sx*sy)/np.sqrt((n*xx-sx**2)*(n*yy-sy**2)) #coeficiente de regresión lineal\n",
    "    return [a, b, sa, sb, r]"
   ]
  },
  {
   "cell_type": "code",
   "execution_count": 114,
   "metadata": {},
   "outputs": [],
   "source": [
    "def regresionPonderada(x,y,s):\n",
    "    w=1.0/(s*s) #peso estadístico\n",
    "    wy=sum(w*y); wx=sum(w*x);\n",
    "    wxx=sum(w*x*x); wxy=sum(w*x*y); wyy=sum(w*y*y)\n",
    "    sw=sum(w)\n",
    "    d=det(np.array([[sw, wx],[wx, wxx]]))\n",
    "    a=(wy*wxx-wx*wxy)/d\n",
    "    b=(sw*wxy-wx*wy)/d\n",
    "    sa=np.sqrt(wxx/d); sb=np.sqrt(sw/d)\n",
    "    r=(sw*wxy-wx*wy)/np.sqrt((sw*wxx-wx**2)*(sw*wyy-wy**2))\n",
    "    return [a, b, sa, sb, r]"
   ]
  },
  {
   "cell_type": "code",
   "execution_count": 129,
   "metadata": {},
   "outputs": [],
   "source": [
    "ajuste = regresionSimple(x,y)"
   ]
  },
  {
   "cell_type": "markdown",
   "metadata": {},
   "source": [
    "Escribimos las cifras significativas correctamente:"
   ]
  },
  {
   "cell_type": "code",
   "execution_count": 130,
   "metadata": {},
   "outputs": [],
   "source": [
    "a_aux = ajuste[0] #parámetros del ajuste\n",
    "b_aux = ajuste[1]\n",
    "sa_aux = ajuste[2]\n",
    "sb_aux = ajuste[3]\n",
    "r_aux = ajuste[4]"
   ]
  },
  {
   "cell_type": "code",
   "execution_count": 131,
   "metadata": {},
   "outputs": [],
   "source": [
    "sa = Decimal('%s' % float('%.2g' % sa_aux)) #incertidumbres con 2 cifras significativas\n",
    "sb = Decimal('%s' % float('%.2g' % sb_aux))"
   ]
  },
  {
   "cell_type": "code",
   "execution_count": 132,
   "metadata": {},
   "outputs": [],
   "source": [
    "csa = Decimal(sa) #calculamos el número de decimales (no cifras) significativos de las incertidumbres\n",
    "csa.as_tuple().exponent\n",
    "decimales_significativos_a = abs(csa.as_tuple().exponent)\n",
    "\n",
    "csb = Decimal(sb)\n",
    "csb.as_tuple().exponent\n",
    "decimales_significativos_b = abs(csb.as_tuple().exponent)"
   ]
  },
  {
   "cell_type": "code",
   "execution_count": 133,
   "metadata": {},
   "outputs": [],
   "source": [
    "a = round(a_aux, decimales_significativos_a) #redondeamos el valor medio al número de decimales significativos\n",
    "b = round(b_aux, decimales_significativos_b)"
   ]
  },
  {
   "cell_type": "code",
   "execution_count": 134,
   "metadata": {},
   "outputs": [],
   "source": [
    "complementario_r = r_aux**2 - 1 #restamos 1 a R² para ver cuántas cifras diferentes de 9 hay\n",
    "csr = Decimal('%s' % float('%.g' % complementario_r))\n",
    "csr.as_tuple().exponent\n",
    "decimales_significativos_r = abs(csr.as_tuple().exponent)\n",
    "R2 = round(r_aux**2, decimales_significativos_r)"
   ]
  },
  {
   "cell_type": "code",
   "execution_count": 135,
   "metadata": {},
   "outputs": [
    {
     "name": "stdout",
     "output_type": "stream",
     "text": [
      "Parámetros del ajuste:\n",
      "a =  -0.0022 ± 0.0077\n",
      "b =  0.085 ± 0.001\n",
      "R²=  0.998\n"
     ]
    }
   ],
   "source": [
    "print('Parámetros del ajuste:')\n",
    "print('a = ', a,'\\u00B1',sa) #\\u00B1 es el símbolo ±\n",
    "print('b = ', b,'\\u00B1',sb)\n",
    "print('R\\u00b2= ', R2) #\\u00b2 es el ²"
   ]
  },
  {
   "cell_type": "markdown",
   "metadata": {},
   "source": [
    "### Representación gráfica"
   ]
  },
  {
   "cell_type": "code",
   "execution_count": 137,
   "metadata": {},
   "outputs": [
    {
     "data": {
      "image/png": "[encoded data removed]",
      "text/plain": [
       "<Figure size 432x288 with 1 Axes>"
      ]
     },
     "metadata": {
      "needs_background": "light"
     },
     "output_type": "display_data"
    }
   ],
   "source": [
    "plt.clf()\n",
    "plt.plot(x, y, 'ko')\n",
    "#n=len(x); p=[0, n-1]\n",
    "y_ajuste = a + b * x\n",
    "plt.plot(x, y_ajuste, 'g-', label='$V_{x}$ = (%g \\u00B1 %g) $I_{x}$ + (%g \\u00B1 %g)' % (b, sb, a, sa))\n",
    "plt.title('Medida del voltaje longitudinal')\n",
    "plt.xlabel('$I_{x}$ (mA)', fontsize=10)\n",
    "plt.ylabel('$V_{x}$ (mV)', fontsize=10)\n",
    "plt.xticks(fontsize=10); plt.yticks(fontsize=10)\n",
    "plt.legend(loc='best', fontsize=10)\n",
    "#plt.savefig(\".pdf\", format=\"pdf\")\n",
    "plt.show()\n",
    "\n",
    "#plt.xlim(1900 , 2020)\n",
    "#plt.ylim(0, 0.5)\n",
    "#plt.annotate('R = 0', (2,0.8))\n",
    "#plt.savefig(\"myImagePDF.pdf\", format=\"pdf\", bbox_inches=\"tight\")\n",
    "#plt.grid(False)\n",
    "#errorbar(x2, y2, yerr=s2, xerr=0, capsize=1.2, elinewidth=0.4, fmt='b.')\n",
    "#plt.errorbar(t1 , x1 , capsize=1.2, elinewidth=0.4, fmt='k.')\n",
    "#errorbar(x2, y2, yerr=s2, xerr=0, capsize=1.2, elinewidth=0.4, fmt='b.')"
   ]
  },
  {
   "cell_type": "markdown",
   "metadata": {},
   "source": [
    "### Resultados"
   ]
  },
  {
   "cell_type": "code",
   "execution_count": 124,
   "metadata": {
    "scrolled": true
   },
   "outputs": [
    {
     "data": {
      "image/png": "[encoded data removed]",
      "text/plain": [
       "<Figure size 432x288 with 2 Axes>"
      ]
     },
     "metadata": {
      "needs_background": "light"
     },
     "output_type": "display_data"
    }
   ],
   "source": [
    "xn = (1, 1.05, 1.1, 1.15)\n",
    "n = (8.187*(10**20), 7.816*(10**20), 7.681*(10**20), 8.058*(10**20))\n",
    "sn = (0.072*(10**20), 0.027*(10**20), 0.082*(10**20), 0.034*(10**20))\n",
    "\n",
    "xR = (1.3, 1.35, 1.4, 1.45)\n",
    "R = (-7.634*(10**-3), -7.996*(10**-3), -8.137*(10**-3), -7.7567*(10**-3))\n",
    "sR = (0.067*(10**-3), 0.028*(10**-3), 0.088*(10**-3), 0.031*(10**-3))  \n",
    "  \n",
    "fig, ax = plt.subplots() \n",
    "plt.title('Resultados')\n",
    "\n",
    "ax2 = ax.twinx()\n",
    "\n",
    "ax.scatter(xn, n, color = 'k', label = 'n') \n",
    "ax2.scatter(xR, R, color = 'b', label = '$R_{H}$')\n",
    "\n",
    "ax.errorbar(xn, n, yerr=sn, fmt='ko')\n",
    "ax2.errorbar(xR, R, yerr=sR, fmt='bo')\n",
    "  \n",
    "#ax.set_xlabel('x-axis', color = 'r') \n",
    "ax.set_ylabel('n ($m^{-3}$)', color = 'k') \n",
    "ax2.set_ylabel('$R_{H}$ ($C^{-1}m^{-3}$)', color = 'b')\n",
    "ax2.set_ylim([-0.0075, -0.0085])\n",
    "plt.xticks([]) ; plt.yticks(fontsize=10)\n",
    "#ax.legend(loc='best')\n",
    " \n",
    "plt.tight_layout()\n",
    "\n",
    "plt.savefig(\"resultados.pdf\", format=\"pdf\")\n",
    "  \n",
    "plt.show()"
   ]
  },
  {
   "cell_type": "markdown",
   "metadata": {},
   "source": [
    "Este ajuste supone que la incertidumbre de las serie de valores y[i] es la misma. En el caso de que cada punto tenga una incertidumbre determinada, tenemos que usar una regresión lineal ponderada:"
   ]
  },
  {
   "cell_type": "code",
   "execution_count": 14,
   "metadata": {},
   "outputs": [
    {
     "data": {
      "text/plain": [
       "'\\ndef regresionPonderada(x,y,s):\\n    w=1.0/(s*s) #peso estadístico\\n    wy=sum(w*y); wx=sum(w*x);\\n    wxx=sum(w*x*x); wxy=sum(w*x*y); wyy=sum(w*y*y)\\n    sw=sum(w)\\n    d=det(array([[sw, wx],[wx, wxx]]))\\n    a=(wy*wxx-wx*wxy)/d\\n    b=(sw*wxy-wx*wy)/d\\n    sa=sqrt(wxx/d); sb=sqrt(sw/d)\\n    r=(sw*wxy-wx*wy)/sqrt((sw*wxx-wx**2)*(sw*wyy-wy**2))\\n    return [a, b, sa, sb, r]\\n'"
      ]
     },
     "execution_count": 14,
     "metadata": {},
     "output_type": "execute_result"
    }
   ],
   "source": [
    "\"\"\"\n",
    "def regresionPonderada(x,y,s):\n",
    "    w=1.0/(s*s) #peso estadístico\n",
    "    wy=sum(w*y); wx=sum(w*x);\n",
    "    wxx=sum(w*x*x); wxy=sum(w*x*y); wyy=sum(w*y*y)\n",
    "    sw=sum(w)\n",
    "    d=det(array([[sw, wx],[wx, wxx]]))\n",
    "    a=(wy*wxx-wx*wxy)/d\n",
    "    b=(sw*wxy-wx*wy)/d\n",
    "    sa=sqrt(wxx/d); sb=sqrt(sw/d)\n",
    "    r=(sw*wxy-wx*wy)/sqrt((sw*wxx-wx**2)*(sw*wyy-wy**2))\n",
    "    return [a, b, sa, sb, r]\n",
    "\"\"\""
   ]
  },
  {
   "cell_type": "markdown",
   "metadata": {},
   "source": [
    "Si nuestro ajuste no tiene término independiente, solo hay que determinar el parámetro b y su incertidumbre:"
   ]
  },
  {
   "cell_type": "code",
   "execution_count": 15,
   "metadata": {},
   "outputs": [
    {
     "data": {
      "text/plain": [
       "'\\ndef regresionSimpleSenTermoIndependente(x,y):\\n    n=len(x)\\n    xy=dot(x,y); xx=dot(x,x); xy=dot(x,y); yy=dot(y,y)\\n    b=xy/xx\\n    s=sqrt(sum((y-b*x)**2)/(n-1))\\n    sb=s/sqrt(xx)\\n    r=xy/sqrt(xx*yy)\\n    return [b, sb, r]\\n'"
      ]
     },
     "execution_count": 15,
     "metadata": {},
     "output_type": "execute_result"
    }
   ],
   "source": [
    "\"\"\"\n",
    "def regresionSimpleSenTermoIndependente(x,y):\n",
    "    n=len(x)\n",
    "    xy=dot(x,y); xx=dot(x,x); xy=dot(x,y); yy=dot(y,y)\n",
    "    b=xy/xx\n",
    "    s=sqrt(sum((y-b*x)**2)/(n-1))\n",
    "    sb=s/sqrt(xx)\n",
    "    r=xy/sqrt(xx*yy)\n",
    "    return [b, sb, r]\n",
    "\"\"\""
   ]
  },
  {
   "cell_type": "code",
   "execution_count": 16,
   "metadata": {},
   "outputs": [
    {
     "data": {
      "text/plain": [
       "'\\ndef regresionPonderadaSenTermoIndependente(x,y,s):\\n    n=len(x); w=1.0/(s*s); sw=sum(w)\\n    wxy=sum(w*x*y); wxx=sum(w*x*x); wyy=sum(w*y*y)\\n    b=wxy/wxx\\n    s=sqrt(n*sum(w*(y-b*x)**2)/(n-1)/sw)\\n    sb=1.0/sqrt(wxx)\\n    r=wxy/sqrt(wxx*wxy)\\n    return [b, sb, r]\\n'"
      ]
     },
     "execution_count": 16,
     "metadata": {},
     "output_type": "execute_result"
    }
   ],
   "source": [
    "\"\"\"\n",
    "def regresionPonderadaSenTermoIndependente(x,y,s):\n",
    "    n=len(x); w=1.0/(s*s); sw=sum(w)\n",
    "    wxy=sum(w*x*y); wxx=sum(w*x*x); wyy=sum(w*y*y)\n",
    "    b=wxy/wxx\n",
    "    s=sqrt(n*sum(w*(y-b*x)**2)/(n-1)/sw)\n",
    "    sb=1.0/sqrt(wxx)\n",
    "    r=wxy/sqrt(wxx*wxy)\n",
    "    return [b, sb, r]\n",
    "\"\"\""
   ]
  }
 ],
 "metadata": {
  "kernelspec": {
   "display_name": "Python 3",
   "language": "python",
   "name": "python3"
  },
  "language_info": {
   "codemirror_mode": {
    "name": "ipython",
    "version": 3
   },
   "file_extension": ".py",
   "mimetype": "text/x-python",
   "name": "python",
   "nbconvert_exporter": "python",
   "pygments_lexer": "ipython3",
   "version": "3.7.4"
  }
 },
 "nbformat": 4,
 "nbformat_minor": 2
}
